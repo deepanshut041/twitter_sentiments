{
 "cells": [
  {
   "cell_type": "markdown",
   "metadata": {},
   "source": [
    "<h1>Twitter Sentimental Analysis</h1>"
   ]
  },
  {
   "cell_type": "markdown",
   "metadata": {},
   "source": [
    "<h3>Abstract</h3>\n",
    "<br>\n",
    "<p>\n",
    "The goal of this project was to predict sentiment for the given Twitter post using Python. Sentiment Analysis is the process of ‘computationally’ determining whether a piece of writing is positive, negative or neutral. It’s also known as opinion mining, deriving the opinion or attitude of a speaker.In this project we only focus on two major fields positive and negative. We had a complete dataset of 2500000 tweets. One half of tweets are positive labels and the other half are negative labels Our task was to build a classifier to predict the test dataset of 10000 tweets.\n",
    "</p>"
   ]
  },
  {
   "cell_type": "markdown",
   "metadata": {},
   "source": [
    "<h3>Data Loading</h3>"
   ]
  },
  {
   "cell_type": "code",
   "execution_count": 1,
   "metadata": {},
   "outputs": [],
   "source": [
    "import pandas as pd\n",
    "\n",
    "#helper function to Generate data\n",
    "def load_data(filename):\n",
    "    data = []\n",
    "    for line in open(filename, \"r\"):\n",
    "        data.append(line)\n",
    "    return data    "
   ]
  },
  {
   "cell_type": "code",
   "execution_count": 2,
   "metadata": {},
   "outputs": [
    {
     "name": "stdout",
     "output_type": "stream",
     "text": [
      " == Loading Tranning Data ==\n",
      "                                                     tweet\n",
      "0        <user> i dunno justin read my mention or not ....\n",
      "1        because your logic is so dumb , i won't even c...\n",
      "2        \" <user> just put casper in a box ! \" looved t...\n",
      "3        <user> <user> thanks sir > > don't trip lil ma...\n",
      "4        visiting my brother tmr is the bestest birthda...\n",
      "5        <user> yay ! ! #lifecompleted . tweet / facebo...\n",
      "6        <user> #1dnextalbumtitle : feel for you / roll...\n",
      "7        workin hard or hardly workin rt <user> at hard...\n",
      "8             <user> i saw . i'll be replying in a bit .\\n\n",
      "9                                  this is were i belong\\n\n",
      "10                <user> anddd to cheer #nationals2013 ?\\n\n",
      "11       we send an invitation to shop on-line ! here y...\n",
      "12                     just woke up , finna go to church\\n\n",
      "13                 <user> agreed ! 12 more days left tho\\n\n",
      "14                                   monet with katemelo\\n\n",
      "15       like dammm <user> lexis u got a lot to say whe...\n",
      "16       grateful today for a dream fulfilled ! ! my he...\n",
      "17              <user> at home affairs shall do it later\\n\n",
      "18        barca bout to beat real madrid on saturday doe\\n\n",
      "19       <user> a lot of parts of asia . especially rat...\n",
      "20       <user> <user> i wasn't even sleeping . so shut...\n",
      "21                       i have the worlds best dad . <3\\n\n",
      "22       <user> <user> ab jaeyay werna meeting khatam h...\n",
      "23                   <user> no one doubts that ability !\\n\n",
      "24       <user> check my tweet pic out . that was the o...\n",
      "25       just got my mid-term and i'm impressed ! ! #ha...\n",
      "26       my summer days : 1 . ) work from 10:30- 2:30 i...\n",
      "27                  <user> lol nooo .. food is ur friend\\n\n",
      "28              <user> #16millionbritneyfan rt and tweet\\n\n",
      "29       <user> but seriously though .. it's called van...\n",
      "...                                                    ...\n",
      "1249970  need to go to the library but sounds like hell...\n",
      "1249971  <user> miss you lil sis . you just left me all...\n",
      "1249972  silver alert issued for elderly leesburg man (...\n",
      "1249973     just finished the game . leg hurts like crap\\n\n",
      "1249974                  i waaant this jeep so bad <url>\\n\n",
      "1249975      so sad my phone cannot download twitter ahh\\n\n",
      "1249976  i have a mother 2 remember \" <user> <user> she...\n",
      "1249977  extremal combinatorics : with applications in ...\n",
      "1249978  african presence in early america ( paperback ...\n",
      "1249979  i'm really sad about charlotte though . she ha...\n",
      "1249980  didn't know keeping fit was so difficult ! str...\n",
      "1249981  <user> dont know yet al let you know ! am knac...\n",
      "1249982                            i wish that i had vip\\n\n",
      "1249983  so sad so dang lonely ... i guess my best isn'...\n",
      "1249984        <user> ohhh im sure it'll be on youtube !\\n\n",
      "1249985  tomarrow we would have to do the \" impossible ...\n",
      "1249986  <user> hell yeah and my.phone is huge it hurt ...\n",
      "1249987  <user> i really wish i could be in london now ...\n",
      "1249988  <user> i know , i can't help it though - i've ...\n",
      "1249989  <user> not funny , but i guess its better than...\n",
      "1249990  my abs are sooo sore . that's what i get for t...\n",
      "1249991  market sellers \" <user> wah movie ? \" <user> l...\n",
      "1249992                     <user> let's go there <user>\\n\n",
      "1249993  <user> haaarryyy seriously , when are you foll...\n",
      "1249994  st . croix avid casting rods model : avc 70mf ...\n",
      "1249995  im so sorry ! <user> & to <user> & <user> u gu...\n",
      "1249996              i can't find food coloring anywhere\\n\n",
      "1249997  <user> same here ! ! but tort ! ! wonder why y...\n",
      "1249998  keyless entry remote fob clicker for 2005 buic...\n",
      "1249999  <user> yeap . doctor don't know what's wrong w...\n",
      "\n",
      "[2500000 rows x 1 columns]\n"
     ]
    }
   ],
   "source": [
    "print(\" == Loading Tranning Data ==\")\n",
    "pos_train_tweets = pd.DataFrame(load_data('data/tweets/train_pos_full.txt'), columns=['tweet'])\n",
    "neg_train_tweets = pd.DataFrame(load_data('data/tweets/train_neg_full.txt'), columns=['tweet'])\n",
    "train_tweets = pd.concat([pos_train_tweets, neg_train_tweets], axis=0)\n",
    "print(train_tweets)\n",
    "train_tweets.to_pickle('data/pickles/train_origin.pkl')"
   ]
  },
  {
   "cell_type": "code",
   "execution_count": 3,
   "metadata": {},
   "outputs": [
    {
     "name": "stdout",
     "output_type": "stream",
     "text": [
      " == Loading Testing Data ==\n",
      "                                                  tweet\n",
      "0     sea doo pro sea scooter ( sports with the port...\n",
      "1     <user> shucks well i work all week so now i ca...\n",
      "2             i cant stay away from bug thats my baby\\n\n",
      "3     <user> no ma'am ! ! ! lol im perfectly fine an...\n",
      "4     whenever i fall asleep watching the tv , i alw...\n",
      "5     <user> he needs to get rid of that thing ! it ...\n",
      "6               its whatever . in a terrible mood ( (\\n\n",
      "7     yesss ! rt <user> <user> thanks jordan , i lov...\n",
      "8     my friend <user> text me to check up on me las...\n",
      "9     <user> #followback please . when will ur #unit...\n",
      "10    watch some of y'all dumb asses get lock up tod...\n",
      "11    obsessed with #phasell <user> you killed it ! ...\n",
      "12    <user> robert de niro is not gay .. but with a...\n",
      "13    <user> canada have to do it in grade 12 . but ...\n",
      "14    <user> please say hi to denmark ! that would b...\n",
      "15                                finally am home now\\n\n",
      "16    3x3 custom picture frame / poster frame 1.2 \" ...\n",
      "17    s / o to my new followers . mention me for a f...\n",
      "18    <user> yep , looks like the best team will sta...\n",
      "19    nhl's bettman : suspension criticism ' gamesma...\n",
      "20    <user> no way i'm pro andd <user> lool she is ...\n",
      "21    barrel pickles ( 2.2 pound these german pickle...\n",
      "22    i completed a whole cup of tea today at jessic...\n",
      "23    expo precision point whiteboard eraser (8 473k...\n",
      "24    #yougetmajorpointsif you play soccer . idc abo...\n",
      "25    task essentials harness leather scribe keepers...\n",
      "26    <user> #needtoreesthisshit #shouldhavereaditwi...\n",
      "27    <user> hahahaha ok , i'll come over , tons of ...\n",
      "28    laurie's garden design protective decal skin s...\n",
      "29                      <user> no way he's mine ! ! !\\n\n",
      "...                                                 ...\n",
      "9970  it's clear that these new goths are learning t...\n",
      "9971  it's clear that these new goths are learning t...\n",
      "9972  another day at home sick , can this be over al...\n",
      "9973  <user> 1 of your own wee golden nuggets there ...\n",
      "9974  <user> all disney movies are classic films the...\n",
      "9975  09x30 custom picture frame / poster frame 1.26...\n",
      "9976  09x30 custom picture frame / poster frame 1.26...\n",
      "9977                    <user> glad it arrived safely\\n\n",
      "9978  im not gonna care if ur not going to either i'...\n",
      "9979  monk - season four ( dvd return to the scene o...\n",
      "9980  i want to wish my beautiful cousin <user> a ha...\n",
      "9981  rt <user> the first rule of sex is , there is ...\n",
      "9982  stay as u are darla , , rt <user> i know hahah...\n",
      "9983  <user> \" <user> most embarrassing thing thats ...\n",
      "9984  i wonder if <user> will ever #followback ? pro...\n",
      "9985  i wonder if <user> will ever #followback ? pro...\n",
      "9986  anaheim ducks cake cupcake toppers ( 12 pack a...\n",
      "9987        shoutout to <user> go follow her guys ! x\\n\n",
      "9988  <user> .. good morning brother , .. noon in en...\n",
      "9989  you're welcome mr.bruce , tell him kun rt <use...\n",
      "9990                 <user> follow me back please ! !\\n\n",
      "9991  <user> omg ! i screamed at the end ! that's am...\n",
      "9992  aww that's dissapointing that i can't make my ...\n",
      "9993                          <user> thankyouu po ! )\\n\n",
      "9994  <user> i'm afraid you're coming back to a lot ...\n",
      "9995           had a nice time w / my friend lastnite\\n\n",
      "9996               <user> no it's not ! please stop !\\n\n",
      "9997  not without my daughter ( dvd two-time oscar (...\n",
      "9998             <user> have fun in class sweetcheeks\\n\n",
      "9999  making a r . e . a . l . difference . ( get r ...\n",
      "\n",
      "[10000 rows x 1 columns]\n"
     ]
    }
   ],
   "source": [
    "print(\" == Loading Testing Data ==\")\n",
    "test_tweets = pd.DataFrame(load_data('data/tweets/test_data.txt'), columns=['tweet'])\n",
    "test_tweets['tweet'] = test_tweets['tweet'].apply(lambda tweet: tweet.split(',', 1)[-1])\n",
    "print(test_tweets)\n",
    "test_tweets.to_pickle('data/pickles/test_origin.pkl')"
   ]
  },
  {
   "cell_type": "markdown",
   "metadata": {},
   "source": [
    "<h3>Segmenter</h3>\n",
    "<p>Helper function for preprocessing step. It Counts the frequencies for total words present in corpus. And there respective frequencies. Total frequency is saved in <span style=\"color:#e65100\">\"data/dicitonary/en/total.tsv\"</span> while respictive frequency are saved in <span style=\"color:#e65100\">\"data/dicitonary/en/frequencies.tsv\"</span> </p>"
   ]
  },
  {
   "cell_type": "code",
   "execution_count": 4,
   "metadata": {},
   "outputs": [],
   "source": [
    "import os\n",
    "\n",
    "class Analyzer(object):\n",
    "    def __init__(self,file_dir=\"data/dictionary/en\" , case_folding=True, minimum_frequency=1.0e-08):\n",
    "        self.frequencies = dict()\n",
    "        self.total = 0.0\n",
    "        self.minimum_frequency = minimum_frequency\n",
    "        self.file_dir =file_dir\n",
    "        self.total = float(open(file_dir + \"/total.tsv\").readlines()[0])\n",
    "        self.case_folding = case_folding\n",
    "        counts = dict()\n",
    "        for line in open(file_dir + \"/frequencies.tsv\"):\n",
    "            parts = line.strip().split(\"\\t\")\n",
    "            if len(parts) == 2:\n",
    "                word, count = parts\n",
    "                if case_folding:\n",
    "                    key = word.lower()\n",
    "                else:\n",
    "                    key = word\n",
    "                counts[key] = counts.get(word, 0.0) + float(count)\n",
    "            else:\n",
    "                pass\n",
    "\n",
    "        for key in counts:\n",
    "            frequency = counts[key] / self.total\n",
    "            if frequency >= self.minimum_frequency:\n",
    "                self.frequencies[key] = frequency\n",
    "\n",
    "    def frequency(self, word):\n",
    "        return self.frequencies.get(word, 0.0)\n",
    "\n",
    "    def segment(self, text):\n",
    "        # best[i] : best log probability for text[0:i]\n",
    "        # words[i] : best word ending at position i\n",
    "        original_text = text\n",
    "        if self.case_folding:\n",
    "            text = text.lower()\n",
    "        n = len(text)\n",
    "        # strings can be split into unicode chars using list\n",
    "        words = [''] + list(text)\n",
    "        best = [1.0] + [0.0] * n\n",
    "        # fill in vectors best, words via dynamic programming\n",
    "        for i in range(n + 1):\n",
    "            for j in range(i):\n",
    "                w = text[j:i]\n",
    "                lp = self.frequency(w) * best[i - len(w)]\n",
    "                if lp >= best[i]:\n",
    "                    best[i] = lp\n",
    "                    words[i] = original_text[j:i]\n",
    "        # now recover the sequence of best words\n",
    "        seq = []\n",
    "        i = len(words) - 1\n",
    "        while i > 0:\n",
    "            # prevent an infinite loop from occuring here\n",
    "            if len(words[i]) > 0:\n",
    "                seq.append(words[i])\n",
    "                i -= len(words[i])\n",
    "            else:\n",
    "                i -= 1\n",
    "        # reverse sequence\n",
    "        return seq[::-1]\n"
   ]
  },
  {
   "cell_type": "markdown",
   "metadata": {},
   "source": [
    "<h3>Pre Processing</h3>\n",
    "<p>User-generated content on the web is seldom present in a form usable for learning. It becomes important to normalize the text by applying a series of pre-processing steps. We have applied an extensive set of pre-processing steps to decrease the size of the feature set to make it suitable for learning algorithms.</p>"
   ]
  },
  {
   "cell_type": "code",
   "execution_count": 5,
   "metadata": {},
   "outputs": [
    {
     "name": "stdout",
     "output_type": "stream",
     "text": [
      "Total Number of Partitions :  4\n",
      "Total Number of cores :  4\n"
     ]
    }
   ],
   "source": [
    "import numpy as np\n",
    "import regex as re\n",
    "import multiprocessing\n",
    "from multiprocessing import Pool\n",
    "from nltk.corpus import stopwords\n",
    "from nltk.stem import WordNetLemmatizer\n",
    "from nltk.stem.porter import PorterStemmer\n",
    "\n",
    "np.random.seed(0)\n",
    "\n",
    "# Loading current instance resource\n",
    "num_partitions = multiprocessing.cpu_count()\n",
    "num_cores = multiprocessing.cpu_count()\n",
    "print(\"Total Number of Partitions : \", num_partitions)\n",
    "print(\"Total Number of cores : \", num_cores)"
   ]
  },
  {
   "cell_type": "markdown",
   "metadata": {},
   "source": [
    "<h5># Abbreviation Replacement</h5>"
   ]
  },
  {
   "cell_type": "code",
   "execution_count": 6,
   "metadata": {},
   "outputs": [],
   "source": [
    "def abbreviation_replacement(text):\n",
    "    text = re.sub(r\"i\\'m\", \"i am\", text)\n",
    "    text = re.sub(r\"\\'re\", \"are\", text)\n",
    "    text = re.sub(r\"he\\'s\", \"he is\", text)\n",
    "    text = re.sub(r\"it\\'s\", \"it is\", text)\n",
    "    text = re.sub(r\"that\\'s\", \"that is\", text)\n",
    "    text = re.sub(r\"who\\'s\", \"who is\", text)\n",
    "    text = re.sub(r\"what\\'s\", \"what is\", text)\n",
    "    text = re.sub(r\"n\\'t\", \"not\", text)\n",
    "    text = re.sub(r\"\\'ve\", \"have\", text)\n",
    "    text = re.sub(r\"\\'d\", \"would\", text)\n",
    "    text = re.sub(r\"\\'ll\", \"will\", text)\n",
    "    text = re.sub(r\",\", \" , \", text)\n",
    "    text = re.sub(r\"!\", \" ! \", text)\n",
    "    text = re.sub(r\"\\.\", \" \\. \", text)\n",
    "    text = re.sub(r\"\\(\", \" \\( \", text)\n",
    "    text = re.sub(r\"\\)\", \" \\) \", text)\n",
    "    text = re.sub(r\"\\?\", \" \\? \", text)\n",
    "    return text"
   ]
  },
  {
   "cell_type": "code",
   "execution_count": 8,
   "metadata": {},
   "outputs": [
    {
     "data": {
      "text/plain": [
       "'i am afraid youare coming back to a lot'"
      ]
     },
     "execution_count": 8,
     "metadata": {},
     "output_type": "execute_result"
    }
   ],
   "source": [
    "abbreviation_replacement(\"i'm afraid you're coming back to a lot\")"
   ]
  },
  {
   "cell_type": "markdown",
   "metadata": {},
   "source": [
    "<h5># Emoji Translation</h5>"
   ]
  },
  {
   "cell_type": "code",
   "execution_count": 9,
   "metadata": {},
   "outputs": [],
   "source": [
    "def emoji_translation(text):\n",
    "    loves = [\"<3\", \"♥\"]\n",
    "    smilefaces = []\n",
    "    sadfaces = []\n",
    "    neutralfaces = []\n",
    "\n",
    "    eyes = [\"8\",\":\",\"=\",\";\"]\n",
    "    nose = [\"'\",\"`\",\"-\",r\"\\\\\"]\n",
    "    for e in eyes:\n",
    "        for n in nose:\n",
    "            for s in [\"\\)\", \"d\", \"]\", \"}\",\"p\"]:\n",
    "                smilefaces.append(e+n+s)\n",
    "                smilefaces.append(e+s)\n",
    "            for s in [\"\\(\", \"\\[\", \"{\"]:\n",
    "                sadfaces.append(e+n+s)\n",
    "                sadfaces.append(e+s)\n",
    "            for s in [\"\\|\", \"\\/\", r\"\\\\\"]:\n",
    "                neutralfaces.append(e+n+s)\n",
    "                neutralfaces.append(e+s)\n",
    "            #reversed\n",
    "            for s in [\"\\(\", \"\\[\", \"{\"]:\n",
    "                smilefaces.append(s+n+e)\n",
    "                smilefaces.append(s+e)\n",
    "            for s in [\"\\)\", \"\\]\", \"}\"]:\n",
    "                sadfaces.append(s+n+e)\n",
    "                sadfaces.append(s+e)\n",
    "            for s in [\"\\|\", \"\\/\", r\"\\\\\"]:\n",
    "                neutralfaces.append(s+n+e)\n",
    "                neutralfaces.append(s+e)\n",
    "\n",
    "    smilefaces = list(set(smilefaces))\n",
    "    sadfaces = list(set(sadfaces))\n",
    "    neutralfaces = list(set(neutralfaces))\n",
    "\n",
    "    t = []\n",
    "    for w in text.split():\n",
    "        if w in loves:\n",
    "            t.append(\"<love>\")\n",
    "        elif w in smilefaces:\n",
    "            t.append(\"<happy>\")\n",
    "        elif w in neutralfaces:\n",
    "            t.append(\"<neutral>\")\n",
    "        elif w in sadfaces:\n",
    "            t.append(\"<sad>\")\n",
    "        else:\n",
    "            t.append(w)\n",
    "    newText = \" \".join(t)\n",
    "    return newText"
   ]
  },
  {
   "cell_type": "code",
   "execution_count": null,
   "metadata": {},
   "outputs": [],
   "source": []
  },
  {
   "cell_type": "markdown",
   "metadata": {},
   "source": [
    "<h5>Emphaszie Punctuation</h5>"
   ]
  },
  {
   "cell_type": "code",
   "execution_count": 10,
   "metadata": {},
   "outputs": [],
   "source": [
    "def emphaszie_punctuation(text):\n",
    "    for punctuation in ['!', '?', '.']:\n",
    "        regex = r'[' + punctuation + ']' + \"+\"\n",
    "        text = re.sub(regex, punctuation + ' <repeat> ', text)\n",
    "    return text"
   ]
  },
  {
   "cell_type": "code",
   "execution_count": 11,
   "metadata": {},
   "outputs": [
    {
     "data": {
      "text/plain": [
       "'yesss ! <repeat>  rt <user> <user> thanks jordan , i love you'"
      ]
     },
     "execution_count": 11,
     "metadata": {},
     "output_type": "execute_result"
    }
   ],
   "source": [
    "emphaszie_punctuation(\"yesss ! rt <user> <user> thanks jordan , i love you\")"
   ]
  },
  {
   "cell_type": "markdown",
   "metadata": {},
   "source": [
    "<h5># Emphasize positive and negative words</h5>"
   ]
  },
  {
   "cell_type": "code",
   "execution_count": 12,
   "metadata": {},
   "outputs": [
    {
     "name": "stdout",
     "output_type": "stream",
     "text": [
      "['astutely', 'masterfully', 'exalted', 'enliven', 'competitive', 'personages', 'angel', 'luck', 'evaluative', 'thriving', 'fecilitous', 'dirt-cheap', 'roomier', 'awe', 'vivid', 'felicitous', 'glow', 'convenience', 'appreciates', 'foremost', 'comforting', 'overtaken', 'courtly', 'best-performing', 'reasonable', 'flawless', 'warmly', 'luxuriate', 'durable', 'mighty', 'wonderfully', 'supporting', 'risk-free', 'righteous', 'striving', 'marvels', 'covenant', 'progress', 'proven', 'adventurous', 'jaw-dropping', 'preeminent', 'beutifully', 'reaffirmation', 'congratulation', 'serene', 'rock-star', 'record-setting', 'intelligent', 'dependable', 'innovative', 'respect', 'richer', 'thoughtful', 'goood', 'hotcakes', 'graciously', 'stellar', 'breeze', 'friendly', 'smoothes', 'industrious', 'levity', 'headway', 'thrills', 'cherish', 'trouble-free', 'harmony', 'reverently', 'self-satisfaction', 'supports', 'dead-on', 'verifiable', 'survivor', 'stability', 'advocates', 'effusively', 'excallent', 'exuberance', 'easygoing', 'elite', 'important', 'mercy', 'illuminate', 'fascination', 'enough', 'shimmeringly', 'advocated', 'dazzled', 'permissible', 'snazzy', 'conciliate', 'sensible', 'talented', 'thoughtfully', 'respectfully', 'better-known', 'swift', 'extoll', 'romanticize', 'beautifully', 'problem-solver', 'interests', 'logical', 'brighter', 'infallible', 'restful', 'imaculate', 'piety', 'sharper', 'frugal', 'quicker', 'humorous', 'happiness', 'cure-all', 'soulful', 'merriness', 'correctly', 'saintliness', 'aspirations', 'altruistically', 'divinely', 'effectiveness', 'mature', 'spontaneous', 'tenaciously', 'magnanimous', 'joyously', 'rosy', 'coherent', 'benevolent', 'ecstatic', 'avidly', 'optimistic', 'affability', 'zest', 'entrancing', 'hale', 'ebullience', 'reverent', 'smart', 'adequate', 'well-being', 'eases', 'sharpest', 'appreciate', 'coolest', 'dreamland', 'energize', 'peaceable', 'futuristic', 'enlighten', 'compact', 'enchanting', 'lustrous', 'enterprising', 'ingenuously', 'low-priced', 'hardy', 'integral', 'invaluablely', 'holy', 'reclaim', 'smile', 'fervor', 'replaceable', 'assurance', 'upliftingly', 'enticingly', 'assurances', 'properly', 'generosity', 'clears', 'pardon', 'endorse', 'seamless', 'inspiration', 'available', 'smoothly', 'awesome', 'exhilarating', 'prudently', 'excites', 'reaffirm', 'undisputed', 'endorsement', 'lead', 'lavish', 'inspiring', 'gems', 'suavely', 'righteously', 'cleared', 'overtakes', 'outdo', 'flatter', 'err-free', 'recomend', 'grandeur', 'slick', 'heaven', 'outperformed', 'terrifically', 'sincerely', 'law-abiding', 'dumbfounded', 'upliftment', 'poignant', 'trustworthy', 'hard-working', 'classy', 'non-violence', 'virtuously', 'vibrant', 'compactly', 'enhancement', 'amazement', 'beneficially', 'feisty', 'remission', 'clean', 'unbeatable', 'cashbacks', 'effusion', 'pep', 'jovial', 'mesmerized', 'irreplaceable', 'transparent', 'favorited', 'infallibility', 'paradise', 'aver', 'rectifying', 'sturdier', 'enviousness', 'uplifting', 'soundness', 'champion', 'revival', 'reasoned', 'flawlessly', 'fertile', 'envious', 'insightfully', 'lifesaver', 'ambitious', 'hero', 'suffice', 'lover', 'dumbfounding', 'problem-free', 'scenic', 'eye-catching', 'instantly', 'advantageously', 'encouragingly', 'celebration', 'receptive', 'fervidly', 'empowerment', 'patiently', 'secure', 'rewardingly', 'well-connected', 'whooa', 'led', 'efficient', 'wisdom', 'sufficiently', 'woo', 'chivalrous', 'bliss', 'redeeming', 'smartly', 'handsomely', 'mesmerize', 'faithfulness', 'sensibly', 'self-sufficient', 'praise', 'solicitously', 'privileged', 'euphoric', 'thumbs-up', 'convient', 'empower', 'courage', 'impartiality', 'prowess', 'peacekeepers', 'adulatory', 'merrily', 'backbone', 'loving', 'razor-sharp', 'divine', 'astonish', 'enhances', 'invigorate', 'cleaner', 'idyllic', 'enjoyment', 'pleasurable', 'god-given', 'instructive', 'undamaged', 'well-bred', 'deft', 'favorite', 'virtuous', 'invaluable', 'freshest', 'noteworthy', 'smoothest', 'stellarly', 'reward', 'deference', 'defeated', 'influential', 'gracious', 'exceedingly', 'accurate', 'stunned', 'adoring', 'educated', 'delicate', 'warm', 'enticing', 'masterpieces', 'loved', 'toughest', 'wieldy', 'humane', 'supremacy', 'outperforming', 'brilliantly', 'cool', 'majesty', 'invigorating', 'preferring', 'sane', 'charming', 'gleefully', 'thrill', 'gallant', 'enthusiasm', 'raptureously', 'marvelously', 'impassioned', 'gratified', 'zenith', 'desirable', 'assuredly', 'magical', 'proficiently', 'sociable', 'enthral', 'wowing', 'amicability', 'silent', 'impresses', 'gusto', 'topnotch', 'audible', 'admiration', 'swankiest', 'amiability', 'righten', 'benevolence', 'admirable', 'luckier', 'cheery', 'credible', 'coherence', 'novelty', 'propitious', 'jubiliant', 'soothe', 'affirmative', 'cajole', 'tantalizing', 'playful', 'enviable', 'high-spirited', 'upgraded', 'dote', 'wonder', 'lyrical', 'keenly', 'tingle', 'expertly', 'kindness', 'fairness', 'fast-paced', 'raptureous', 'happily', 'works', 'delicacy', 'smartest', 'fantastically', 'loves', 'impressively', 'swankier', 'attraction', 'prospros', 'long-lasting', 'vibrantly', 'subsidize', 'cheaper', 'pleased', 'powerful', 'satisified', 'delight', 'strongest', 'foresight', 'truthfully', 'noble', 'merry', 'slammin', 'rapid', 'stylish', 'promising', 'heartfelt', 'intimate', 'effortlessly', 'goodly', 'guarantee', 'profoundly', 'excite', 'finest', 'goodwill', 'sweetly', 'bless', 'satisfies', 'ecstasy', 'dawn', 'humourous', 'posh', 'strong', 'contrasty', 'impressive', 'smarter', 'won', 'sublime', 'enhanced', 'nurturing', 'genius', 'perfect', 'enlightenment', 'peerless', 'recommended', 'meaningful', 'phenomenal', 'masters', 'yay', 'affinity', 'lucidly', 'softer', 'gold', 'pleases', 'idolize', 'subsidizing', 'fabulous', 'profuse', 'orderly', 'complemented', 'admirably', 'excellency', 'proactive', 'obsession', 'fearless', 'realizable', 'reassurance', 'spellbindingly', 'endearing', 'matchless', 'world-famous', 'grin', 'exalting', 'advantage', 'compassion', 'extraordinary', 'endorses', 'unforgettable', 'safely', 'cuteness', 'remarkable', 'sumptuously', 'effective', 'beckoned', 'smiling', 'pleasurably', 'heroize', 'remarkably', 'refresh', 'proficient', 'sensitive', 'peps', 'majestic', 'dazzling', 'leads', 'adulate', 'attentive', 'popular', 'positives', 'continuity', 'gratifies', 'elated', 'enthusiastic', 'trumpet', 'mind-blowing', 'super', 'appreciative', 'amity', 'overtook', 'quiet', 'energetic', 'adorer', 'boost', 'vouch', 'dignify', 'better', 'likable', 'fervid', 'enjoying', 'enrichment', 'skillful', 'distinctive', 'supurb', 'blockbuster', 'clear-cut', 'nice', 'halcyon', 'splendid', 'truthful', 'unquestionable', 'suitable', 'simpler', 'inviolable', 'ennoble', 'illustrious', 'miracles', 'stupendous', 'diversified', 'exhilaration', 'altruistic', 'well-intentioned', 'best', 'lower-priced', 'fine', 'capable', 'loyalty', 'apotheosis', 'classic', 'promises', 'reputable', 'poetic', 'charm', 'glitz', 'portable', 'gratification', 'deginified', 'regal', 'tantalizingly', 'well-known', 'assuring', 'marvelled', 'tempting', 'groundbreaking', 'thankful', 'daringly', 'agreeable', 'consistently', 'honorable', 'straightforward', 'ingeniously', 'exceptionally', 'delighted', 'nimble', 'cleanest', 'sagely', 'handy', 'successful', 'advocate', 'gorgeously', 'achievement', 'beckoning', 'fashionably', 'irresistible', 'trusty', 'revives', 'amicably', 'manageable', 'astounding', 'succeeds', 'temptingly', 'irresistibly', 'marvellous', 'sweeten', 'remunerate', 'unbiased', 'satisfied', 'well-managed', 'counter-attacks', 'ergonomical', 'inestimably', 'whoa', 'deserving', 'tender', 'precise', 'courageously', 'top-notch', 'gratifying', 'tempt', 'top', 'low-cost', 'optimism', 'facilitate', 'better-than-expected', 'adulation', 'ecstasies', 'eventful', 'intelligible', 'willingness', 'clear', 'exciting', 'stylized', 'plentiful', 'unequivocally', 'inviolate', 'sharp', 'delicious', 'first-class', 'grand', 'sweetness', 'heroic', 'chivalry', 'lionhearted', 'boom', 'outwit', 'triumphal', 'regally', 'awarded', 'distinction', 'fascinating', 'exuberant', 'spellbind', 'fulfillment', 'exonerate', 'dignified', 'promoter', 'master', 'articulate', 'well-backlit', 'devout', 'hotcake', 'charmingly', 'gentle', 'individualized', 'persevere', 'warmhearted', 'enrapture', 'bravo', 'immense', 'maturity', 'celebrate', 'comfortable', 'unfettered', 'accurately', 'prosper', 'wow', 'agilely', 'well-regarded', 'dependably', 'hottest', 'attractive', 'magnanimously', 'considerate', 'free', 'survival', 'sufficed', 'easiness', 'prominent', 'superbly', 'usable', 'benefactor', 'concise', 'glisten', 'outperforms', 'talent', 'complementary', 'rapturously', 'solid', 'fascinatingly', 'favorable', 'achievible', 'capably', 'pretty', 'exceled', 'commendable', 'optimal', 'well-balanced', 'honest', 'booming', 'acclamation', 'stronger', 'awesomely', 'indulgent', 'balanced', 'eloquently', 'diligent', 'congratulatory', 'magnificently', 'unreal', 'upheld', 'lovely', 'superior', 'steady', 'winner', 'beckons', 'gorgeous', 'sweet', 'favored', 'gush', 'productively', 'restructured', 'glitter', 'uncomplicated', 'righteousness', 'reconciliation', 'bonuses', 'purposeful', 'wellbeing', 'gratify', 'honoring', 'rapport', 'unbound', 'adventuresome', 'awed', 'glorious', 'twinkly', 'tough', 'bolster', 'trusting', 'accomplishments', 'superb', 'elegance', 'overtaking', 'clearer', 'godlike', 'perseverance', 'eyecatch', 'gladden', 'endear', 'convienient', 'efficacious', 'improve', 'securely', 'statuesque', 'wonders', 'swank', 'tranquil', 'dynamic', 'prodigiously', 'evenly', 'expansive', 'elan', 'affectionate', 'fancinating', 'benifits', 'reforms', 'faultless', 'incredibly', 'diligence', 'undaunted', 'thrilling', 'willingly', 'accessible', 'eloquence', 'favour', 'fine-looking', 'unabashed', 'unmatched', 'dominates', 'miraculously', 'commend', 'skillfully', 'fearlessly', 'undisputable', 'blameless', 'heartening', 'useful', 'dexterous', 'glistening', 'indulgence', 'ardor', 'patriotic', 'overture', 'entertains', 'adroitly', 'fun', 'feasibly', 'celebratory', 'passionate', 'brave', 'delightfully', 'exuberantly', 'fancier', 'peace', 'extol', 'easy-to-use', 'tougher', 'resourceful', 'outstanding', 'astonishment', 'charisma', 'contribution', 'endorsed', 'smiles', 'steadfast', 'eager', 'well', 'loveliness', 'flexible', 'fascinate', 'excellently', 'wise', 'bountiful', 'sturdy', 'eulogize', 'beneficial', 'intricate', 'quaint', 'avid', 'cleanly', 'romantic', 'foolproof', 'prodigy', 'high-quality', 'glowing', 'honor', 'conveniently', 'decisiveness', 'peach', 'prize', 'well-behaved', 'satisfactory', 'enjoy', 'accommodative', 'empathize', 'resplendent', 'breathtakingly', 'heroine', 'willing', 'accomplishment', 'wonderously', 'amazes', 'eye-catch', 'memorable', 'dashing', 'nifty', 'happier', 'unassailable', 'pluses', 'saver', 'principled', 'worthwhile', 'congratulations', 'surpass', 'gloriously', 'revelation', 'light-hearted', 'improving', 'trophy', 'intuitive', 'protection', 'triumphant', 'monumental', 'bargain', 'respectful', 'wowed', 'uplift', 'swanky', 'eagerness', 'revere', 'ecstatically', 'pain-free', 'sweetheart', 'understandable', 'palatial', 'wondrous', 'infallibly', 'commitment', 'brilliance', 'fervently', 'grace', 'ardent', 'spacious', 'elation', 'stylishly', 'encouraging', 'incredible', 'edify', 'idol', 'opulent', 'privilege', 'impartially', 'convenient', 'trendy', 'audibly', 'gain', 'afford', 'accolades', 'richly', 'feasible', 'staunchly', 'sumptuous', 'mesmerizingly', 'revolutionary', 'elegantly', 'solidarity', 'appreciated', 'ample', 'revive', 'success', 'polished', 'flashy', 'admire', 'lawfully', 'unparalleled', 'excellant', 'handier', 'monumentally', 'freedoms', 'loyal', 'mercifully', 'proving', 'compliment', 'keenness', 'flatteringly', 'gainful', 'intriguing', 'darling', 'excellent', 'auspicious', 'brightest', 'crisper', 'praising', 'engrossing', 'effectively', 'qualified', 'amusingly', 'commendably', 'stirringly', 'upgradeable', 'enchantingly', 'brilliant', 'abundant', 'helped', 'refunded', 'acclaim', 'hallowed', 'cooperative', 'fave', 'undisputably', 'first-rate', 'blithe', 'courageousness', 'compassionate', 'rightful', 'cushy', 'shiny', 'saint', 'well-wishers', 'famous', 'unselfish', 'amusing', 'credence', 'phenomenally', 'winnable', 'splendidly', 'endorsing', 'buoyant', 'mastery', 'enticed', 'cost-saving', 'examplar', 'honored', 'magnificence', 'amazing', 'zeal', 'finer', 'harmonious', 'veritable', 'calming', 'savior', 'honesty', 'ideal', 'rejuvenating', 'marvelousness', 'vigilant', 'faster', 'achievements', 'savings', 'kindliness', 'snappy', 'luminous', 'intimacy', 'openness', 'hot', 'fresher', 'kid-friendly', 'chic', 'succeeding', 'jubilant', 'acumen', 'brainy', 'faith', 'conscientious', 'kindly', 'traction', 'overjoyed', 'meritorious', 'harmonize', 'harmless', 'tickle', 'sagacity', 'staunch', 'courageous', 'pampers', 'poeticize', 'leverage', 'believeable', 'gladly', 'capability', 'immaculate', 'picturesque', 'pamperedness', 'legendary', 'benefits', 'recommendations', 'unabashedly', 'helpful', 'radiant', 'profusion', 'astound', 'gem', 'non-violent', 'worthiness', 'enchanted', 'effusiveness', 'exceed', 'astounded', 'neatest', 'beneficent', 'renown', 'valiant', 'magnificent', 'pure', 'agile', 'improvement', 'renewed', 'safe', 'plush', 'realistic', 'supurbly', 'prudence', 'brotherly', 'tremendously', 'revel', 'rejoicingly', 'gallantly', 'recovery', 'nicest', 'openly', 'dauntless', 'versatile', 'glowingly', 'peaceful', 'defeat', 'destiny', 'idealize', 'brighten', 'impartial', 'efficiently', 'cohesive', 'ebullient', 'cheerful', 'politeness', 'accessable', 'breakthrough', 'exceeded', 'stupendously', 'excellence', 'entertain', 'dextrous', 'hands-down', 'hospitable', 'entranced', 'delightfulness', 'compatible', 'spellbound', 'pleasure', 'mesmerizes', 'talents', 'nicely', 'prosperity', 'enthusiast', 'magic', 'unity', 'breakthroughs', 'improved', 'luxuriously', 'bright', 'valor', 'formidable', 'strikingly', 'togetherness', 'outshone', 'support', 'self-determination', 'jubilation', 'energy-efficient', 'panoramic', 'affably', 'oasis', 'dominated', 'enthusiastically', 'amiabily', 'adjustable', 'rightness', 'excel', 'hooray', 'imaginative', 'tenacious', 'wonderous', 'staunchness', 'spectacularly', 'pamperedly', 'luxury', 'flourishing', 'adroit', 'dead-cheap', 'glad', 'chaste', 'purify', 'reformed', 'responsibly', 'promised', 'bullish', 'eminence', 'polite', 'progressive', 'spirited', 'intrigue', 'fidelity', 'abundance', 'stainless', 'speedily', 'promptly', 'exultingly', 'painlessly', 'easiest', 'improves', 'believable', 'agreeably', 'glee', 'sparkling', 'astonishing', 'exemplary', 'fabulously', 'friendliness', 'whoooa', 'elate', 'consistent', 'god-send', 'paramount', 'gratifyingly', 'state-of-the-art', 'upscale', 'amaze', 'awards', 'examplary', 'effectual', 'graceful', 'salutary', 'defeating', 'beautifullly', 'joy', 'inpressed', 'relaxed', 'vigilance', 'exceeding', 'expeditiously', 'agreeableness', 'selective', 'gutsy', 'deservedly', 'gladness', 'boundless', 'nourishing', 'awsome', 'spectacular', 'advantages', 'elevate', 'succeed', 'glorify', 'ingenuity', 'easy', 'favor', 'ftw', 'reachable', 'lawful', 'lovably', 'dotingly', 'euphorically', 'famously', 'swiftness', 'simplest', 'earnestness', 'miraculous', 'inestimable', 'thrift', 'sustainable', 'satisfying', 'blissfully', 'elegant', 'fav', 'sophisticated', 'motivated', 'amenable', 'prosperous', 'jaw-droping', 'like', 'invincibility', 'ebulliently', 'successes', 'reassure', 'standout', 'unrestricted', 'astonished', 'momentous', 'low-price', 'rock-stars', 'flourish', 'cheapest', 'enrapt', 'succes', 'marvelous', 'pros', 'gentlest', 'congenial', 'worked', 'enraptured', 'fondness', 'comfort', 'supported', 'colorful', 'pleasing', 'engaging', 'adore', 'promise', 'merit', 'spotless', 'rockstar', 'amuse', 'generously', 'delectable', 'equitable', 'amply', 'convience', 'heartwarming', 'ultra-crisp', 'work', 'savvy', 'fast-growing', 'eyecatching', 'self-sufficiency', 'thrifty', 'gratefully', 'felicitate', 'trusted', 'passionately', 'revolutionize', 'simplify', 'excelent', 'cost-effective', 'illuminating', 'civility', 'lighter', 'respite', 'impeccably', 'mightily', 'heroically', 'hopeful', 'joyous', 'salute', 'fluent', 'prudent', 'handsome', 'ideally', 'danken', 'fastest-growing', 'abounds', 'accomplished', 'perfection', 'fastest', 'thinner', 'rockstars', 'thrilled', 'recover', 'excitedly', 'robust', 'invincible', 'affluence', 'top-quality', 'subsidized', 'visionary', 'perfectly', 'gaining', 'originality', 'fans', 'subsidizes', 'adored', 'lush', 'rapt', 'modern', 'pre-eminent', 'revolutionized', 'genuine', 'luckiness', 'graciousness', 'acclaimed', 'premier', 'distinguished', 'reasonably', 'stimulates', 'playfully', 'sustainability', 'autonomous', 'affordably', 'enchant', 'sincere', 'thrillingly', 'fairly', 'lucid', 'erudite', 'felicity', 'idolized', 'qualify', 'eagerly', 'affluent', 'happy', 'excitement', 'greatness', 'gainfully', 'electrify', 'applaud', 'lucrative', 'galore', 'defeats', 'exquisitely', 'interesting', 'providence', 'unlimited', 'humility', 'bloom', 'dazzle', 'diligently', 'firmer', 'navigable', 'rejoicing', 'appeal', 'reform', 'attune', 'skill', 'tops', 'laudable', 'comprehensive', 'right', 'amenity', 'rightly', 'stimulative', 'supportive', 'calm', 'enviably', 'angelic', 'keen', 'seasoned', 'eased', 'sensational', 'powerfully', 'lively', 'outstandingly', 'miraculousness', 'merriment', 'superiority', 'solace', 'fortitude', 'defender', 'love', 'warmer', 'afordable', 'pleasantly', 'merciful', 'greatest', 'relief', 'affirmation', 'wisely', 'heartily', 'intelligence', 'exhilaratingly', 'surmount', 'joyful', 'soothingly', 'achievable', 'large-capacity', 'fortune', 'winning', 'meticulous', 'first-in-class', 'romantically', 'flutter', 'amicable', 'adoringly', 'masterful', 'clarity', 'pleasant', 'entice', 'contentment', 'enjoyably', 'proud', 'feature-rich', 'refreshing', 'appreciatively', 'rich', 'prestigious', 'alluring', 'earnest', 'youthful', 'unwavering', 'luxurious', 'champ', 'attractively', 'glory', 'wholesome', 'excitingly', 'wins', 'sweeping', 'doubtless', 'modest', 'luxuriant', 'titillate', 'jubilate', 'wows', 'all-around', 'wholeheartedly', 'supremely', 'decency', 'unfazed', 'enthrall', 'cherished', 'humour', 'healthful', 'unaffected', 'striking', 'eloquent', 'best-selling', 'stimulating', 'beautiful', 'glimmering', 'liked', 'congratulate', 'solicitous', 'valiantly', 'zippy', 'assure', 'refund', 'user-replaceable', 'worth', 'retractable', 'crisp', 'fortuitous', 'ingenious', 'profound', 'spiritual', 'wonderful', 'detachable', 'irreproachable', 'abound', 'noiseless', 'reliably', 'generous', 'resolute', 'well-made', 'healthy', 'skilled', 'breathlessness', 'praiseworthy', 'titillating', 'encourage', 'inventive', 'entertaining', 'lavishly', 'multi-purpose', 'workable', 'uphold', 'shimmering', 'poise', 'pepped', 'liberate', 'sensation', 'trivially', 'positive', 'winners', 'toll-free', 'appealing', 'aspire', 'glamorous', 'soundly', 'gained', 'inspirational', 'thank', 'restored', 'great', 'well-mannered', 'civilize', 'exceptional', 'fanfare', 'resilient', 'exceeds', 'complement', 'commodious', 'sparkle', 'peppy', 'regard', 'correct', 'faithful', 'aspiration', 'festive', 'embolden', 'sensationally', 'fortunate', 'ingenuous', 'benefit', 'welcome', 'delightful', 'judicious', 'effortless', 'eminent', 'smooth', 'amazingly', 'compliant', 'flattering', 'refine', 'upbeat', 'hallmarks', 'lean', 'sleek', 'goodness', 'heros', 'adaptable', 'rectify', 'sprightly', 'liberty', 'sexy', 'invulnerable', 'personalized', 'nourishment', 'renowned', 'inexpensive', 'poised', 'tenderly', 'rapture', 'comfy', 'tranquility', 'trustworthiness', 'diplomatic', 'gaily', 'propitiously', 'trust', 'responsive', 'thumb-up', 'enjoyable', 'exellent', 'passion', 'astoundingly', 'flexibility', 'futurestic', 'neat', 'variety', 'soft', 'pride', 'innovation', 'insightful', 'fame', 'reputation', 'luckiest', 'everlasting', 'affectation', 'fashionable', 'accolade', 'reverence', 'fervent', 'convincingly', 'treasure', 'envy', 'rectification', 'confident', 'preferable', 'steadiness', 'viewable', 'gratitude', 'pamper', 'well-educated', 'restructure', 'spellbinding', 'upgradable', 'catchy', 'morality', 'witty', 'exaltingly', 'prefered', 'unencumbered', 'ardently', 'unequivocal', 'versatility', 'gumption', 'innocuous', 'shine', 'rightfully', 'precisely', 'integrated', 'splendor', 'triumphantly', 'impressed', 'well-informed', 'sensations', 'well-run', 'calmness', 'hail', 'saintly', 'laudably', 'dedicated', 'cohere', 'readable', 'entrust', 'plusses', 'rewarding', 'overtake', 'bonus', 'advantageous', 'ilu', 'harmoniously', 'fondly', 'affordable', 'justly', 'quieter', 'luster', 'tenacity', 'prestige', 'revitalize', 'dominate', 'streamlined', 'hardier', 'carefree', 'protective', 'inspire', 'amiable', 'approve', 'mesmerizing', 'kudos', 'fortuitously', 'prompt', 'unconditional', 'beckon', 'user-friendly', 'prefer', 'satisfy', 'marvel', 'humorously', 'respectable', 'agility', 'rejuvenate', 'excels', 'gooood', 'exemplar', 'heavenly', 'ready', 'helping', 'stimulate', 'cozy', 'decent', 'courteous', 'enjoyed', 'prodigious', 'stunning', 'restructuring', 'comely', 'accomodative', 'suffices', 'counter-attack', 'likes', 'admiringly', 'blissful', 'cherub', 'supporter', 'roomy', 'bonny', 'neatly', 'alluringly', 'liberation', 'unquestionably', 'cute', 'nicer', 'beauty', 'freed', 'useable', 'good', 'tolerable', 'outstrip', 'wealthy', 'sumptuousness', 'virtue', 'instrumental', 'supreme', 'exultation', 'protect', 'effusive', 'cooperatively', 'appropriate', 'excited', 'accomplish', 'cure', 'frolic', 'refinement', 'patient', 'astonishingly', 'revolutionizes', 'intriguingly', 'enthuse', 'guidance', 'windfall', 'dignity', 'complimentary', 'prominence', 'impeccable', 'successfully', 'daring', 'redeem', 'painless', 'laud', 'victory', 'readily', 'win', 'finely', 'impressiveness', 'complements', 'preferes', 'vivacious', 'knowledgeable', 'charismatic', 'exaltedly', 'substantive', 'godsend', 'straighten', 'admiring', 'gifted', 'fruitful', 'geekier', 'patience', 'evocative', 'gleeful', 'golden', 'time-honored', 'admirer', 'appreciable', 'captivate', 'leading', 'fantastic', 'handily', 'conciliatory', 'stable', 'smitten', 'issue-free', 'jolly', 'empathy', 'obtainable', 'productive', 'danke', 'fond', 'cheer', 'victorious', 'stunningly', 'illuminati', 'outperform', 'illumine', 'gaiety', 'fiery', 'brand-new', 'enhance', 'joyfully', 'ecenomical', 'resourcefulness', 'tantalize', 'awestruck', 'suave', 'well-established', 'reconcile', 'awesomeness', 'euphoria', 'fair', 'affable', 'geeky', 'convincing', 'brainiest', 'proves', 'hilarious', 'clever', 'ambitiously', 'thrive', 'easier', 'cornerstone', 'worthy', 'humor', 'constructive', 'ameliorate', 'priceless', 'approval', 'significant', 'lucky', 'relish', 'steadiest', 'exhilarate', 'rapturous', 'exaltation', 'freedom', 'amazed', 'easing', 'authoritative', 'enthralled', 'resounding', 'famed', 'indebted', 'sporty', 'beloved', 'beneficiary', 'notably', 'brilliances', 'fancy', 'exquisite', 'simplifies', 'best-known', 'miracle', 'peacefully', 'dummy-proof', 'gracefully', 'confidence', 'reliable', 'prolific', 'ease', 'captivating', 'low-risk', 'award', 'immaculately', 'desiring', 'resound', 'enjoys', 'clearly', 'outshine', 'jollify', 'recommend', 'nobly', 'stately', 'maturely', 'ethical', 'richness', 'breathtaking', 'earnestly', 'precious', 'elatedly', 'simplified', 'surreal', 'hug', 'fortunately', 'tidy', 'glimmer', 'masterpiece', 'pinnacle', 'punctual', 'truthfulness', 'enviously', 'encouragement', 'adaptive', 'ovation', 'well-rounded', 'exalt', 'fragrant', 'grateful', 'consummate', 'gains', 'stabilize', 'well-positioned', 'patriot', 'worth-while', 'radiance', 'pleasingly', 'trump', 'reforming', 'terrific', 'excitedness', 'trustingly', 'genial', 'satisfactorily', 'positively', 'prettily', 'improvements', 'marveled', 'guiltless', 'hallmark', 'authentic', 'titillatingly', 'succeeded', 'homage', 'refreshed', 'humble', 'bravery', 'serenity', 'outsmart', 'brisk', 'valuable', 'prefers', 'pepping', 'rejoice', 'triumph', 'creative', 'cashback', 'steadfastness', 'exult', 'warmth', 'refined', 'rejuvenated', 'excelled', 'lovable', 'dexterously', 'smilingly', 'steadfastly', 'hearten', 'faithfully', 'remedy', 'cleverly', 'exultant', 'relent', 'sincerity', 'venerate', 'enrich', 'celebrated', 'timely', 'maneuverable', 'beautify', 'liking', 'recommendation', 'meticulously', 'sufficient', 'vouchsafe', 'self-respect', 'outdone', 'modesty', 'heal', 'blossom', 'rational', 'obsessions', 'fast', 'redemption', 'smoother', 'nourish', 'charitable', 'simplifying', 'jubilantly', 'unrivaled', 'comfortably', 'advanced', 'beauteous', 'economical', 'extraordinarily', 'cleanliness', 'desirous', 'supple', 'speedy', 'impress', 'feat', 'adorable', 'fresh', 'well-received', 'blessing', 'pampered', 'decisive', 'energy-saving', 'thoughtfulness', 'a+', 'affirm', 'preferably', 'affection', 'renaissance', 'proper']\n",
      "['damnably', 'exclusion', 'lengthy', 'burdensomely', 'calumniation', 'ignominy', 'bothers', 'naively', 'unconvincing', 'vindictively', 'shrill', 'flabbergasted', 'insidiously', 'junk', 'damnable', 'lapsed', 'shamelessly', 'despised', 'nastily', 'rampant', 'regressive', 'mortify', 'despot', 'timid', 'wrip', 'underestimate', 'stew', 'devastated', 'spiritless', 'futility', 'slander', 'flakey', 'insufficient', 'abrupt', 'erroneously', 'inconsistence', 'interfere', 'misunderstandings', 'trash', 'undependable', 'infidels', 'noisy', 'annoying', 'expel', 'decrepit', 'miscreant', 'mispronounces', 'overkill', 'amputate', 'idiotically', 'atrocity', 'worsening', 'refutation', 'crack', 'fooled', 'impropriety', 'ill-designed', 'dusty', 'inconveniently', 'irrecoverably', 'irritations', 'laconic', 'blister', 'stringently', 'suspiciously', 'randomly', 'disgusting', 'damage', 'anxieties', 'depressingly', 'mediocrity', 'tragedy', 'bothersome', 'conspicuously', 'contentious', 'deploring', 'dislike', 'intolerable', 'musty', 'anger', 'anarchist', 'loser', 'rape', 'struggles', 'depravedly', 'underpaid', 'hysterical', 'mishap', 'nightmarishly', 'ghetto', 'insolent', 'insubordinate', 'reject', 'sarcastic', 'disrespectfully', 'drastic', 'commonplace', 'execrate', 'cocky', 'explosive', 'loathsomely', 'mangles', 'savagery', 'judders', 'overwhelmed', 'dope', 'bafflement', 'aghast', 'insanely', 'squeals', 'incorrigible', 'worrisome', 'fabricate', 'incoherent', 'terror', 'trivial', 'snobish', 'impulsive', 'sleazy', 'wildly', 'mortified', 'scolded', 'unruly', 'harridan', 'peevishly', 'uproot', 'drunkard', 'gibe', 'ignominiously', 'disrespecting', 'inglorious', 'disagreeable', 'cliche', 'craziness', 'lanky', 'foolishly', 'presumptuously', 'bungle', 'unsettling', 'unspecified', 'peril', 'ill-fated', 'flabbergast', 'shocked', 'insinuate', 'tumble', 'betray', 'inconsistent', 'afflictive', 'pandemonium', 'starvation', 'compulsive', 'aggrieved', 'crooks', 'disconcert', 'exasperating', 'creepy', 'casualty', 'foolish', 'scoffingly', 'guiltily', 'unavailable', 'inelegance', 'fastidiously', 'disreputable', 'stench', 'regreted', 'humming', 'feeblely', 'unnoticed', 'depress', 'drowning', 'inconsequently', 'indolent', 'abysmally', 'sneeringly', 'erratically', 'condemnable', 'invidiously', 'worsen', 'grumble', 'die-hard', 'torturous', 'dents', 'inconstant', 'lonely', 'fallaciousness', 'inexperience', 'non-confidence', 'unfriendly', 'remorsefully', 'snag', 'immorality', 'indecently', 'interference', 'derogatory', 'negativity', 'dripping', 'inability', 'inessential', 'lawless', 'faint', 'foe', 'passive', 'scum', 'anti-occupation', 'cheated', 'dissenter', 'distrustful', 'indoctrinate', 'sharply', 'abomination', 'bull----', 'antagonistic', 'bland', 'fleeing', 'rash', 'insults', 'cannibal', 'grisly', 'stumped', 'ail', 'frightfully', 'tout', 'damn', 'calamitously', 'fright', 'ambivalence', 'losers', 'guile', 'perfunctory', 'terribleness', 'incessantly', 'retards', 'skinny', 'anti-white', 'dismay', 'concession', 'exaggerate', 'excuses', 'hooligan', 'detraction', 'geezer', 'writhe', 'meltdown', 'overlook', 'pander', 'oddly', 'pompous', 'racists', 'excessively', 'heartbreakingly', 'ranted', 'contemptible', 'scratched', 'stuttered', 'backwardness', 'contradiction', 'monotonous', 'disliking', 'lemon', 'impurity', 'relentless', 'egomania', 'hoodium', 'inflammation', 'odder', 'doomsday', 'abyss', 'anti-', 'overwhelming', 'dispensable', 'acrimonious', 'sneering', 'acerbic', 'outraged', 'atrophy', 'bullshyt', 'inconsolable', 'apocalypse', 'failing', 'arduous', 'traitor', 'distraughtly', 'lorn', 'delusion', 'uneasy', 'treachery', 'loneliness', 'restricted', 'salacious', 'crime', 'precariously', 'regret', 'painfully', 'indignant', 'invidiousness', 'dauntingly', 'aversion', 'fiendish', 'hysterics', 'mindless', 'messed', 'deign', 'smelling', 'murky', 'victimize', 'unlucky', 'ruthlessness', 'ferocity', 'surrender', 'unfortunate', 'dirt', 'shortage', 'maniac', 'scarcely', 'mushy', 'jagged', 'unusually', 'trashed', 'infirm', 'deplorably', 'impeach', 'superficial', 'grim', 'powerless', 'groundless', 'oversimplified', 'scream', 'uncomfy', 'polemize', 'heckle', 'cunts', 'scarce', 'villainously', 'fried', 'melodramatically', 'contemptuous', 'abolish', 'displeased', 'crashing', 'misguide', 'fracture', 'damning', 'confusion', 'anti-us', 'spurn', 'desert', 'idiocies', 'untenable', 'vomit', 'abominate', 'jealousy', 'dissolute', 'anemic', 'falsely', 'wild', 'splitting', 'unprofitable', 'bastard', 'ugh', 'hostilities', 'travesties', 'exterminate', 'impractical', 'dismayed', 'indignation', 'adulteration', 'prejudices', 'inequitable', 'apologist', 'appal', 'imperfect', 'appalled', 'engulf', 'impinge', 'pandering', 'severe', 'unorthodoxy', 'scathing', 'difficult', 'autocratic', 'dust', 'hatefulness', 'bother', 'dubious', 'pretence', 'revengefully', 'distaste', 'spoonfed', 'wrinkle', 'villify', 'shortsighted', 'rhetorical', 'cruelness', 'madman', 'uprising', 'lech', 'obscenity', 'accidental', 'wanton', 'contempt', 'bane', 'disappointingly', 'notorious', 'dissatisfactory', 'disturbed', 'acridly', 'blasted', 'dunce', 'head-aches', 'brutality', 'embroil', 'cracked', 'unwatchable', 'avaricious', 'lies', 'criticisms', 'intolerance', 'derision', 'outrages', 'anomaly', 'unfamiliar', 'starkly', 'crude', 'leakages', 'spewed', 'spoon-feed', 'trick', 'dehumanization', 'crashes', 'bull****', 'turmoil', 'obtrusive', 'brashly', 'gaff', 'unproved', 'bombard', 'obnoxious', 'grumpy', 'manipulative', 'heartless', 'doomed', 'knife', 'manic', 'vibrated', 'devilishly', 'stammer', 'wicked', 'tangles', 'detracting', 'bruised', 'limp', 'repression', 'franticly', 'confined', 'insult', 'rust', 'maddeningly', 'spews', 'punishable', 'dumps', 'dented', 'incapably', 'spitefulness', 'crumples', 'infuriatingly', 'ambush', 'inefficiency', 'denunciations', 'agonize', 'inexcusably', 'kills', 'slothful', 'escapade', 'anxiously', 'devilment', 'objection', 'retaliate', 'retaliatory', 'thwart', 'intractable', 'despotic', 'desperately', 'paranoid', 'mockery', 'upsettingly', 'overzelous', 'contaminated', 'revolt', 'debilitate', 'sly', 'pertinaciously', 'belligerence', 'bowdlerize', 'impolitely', 'indiscriminately', 'desperate', 'condescendingly', 'inflated', 'weep', 'nastiness', 'authoritarian', 'slowww', 'hopelessly', 'insouciance', 'preposterously', 'languish', 'unhelpful', 'obnoxiously', 'tainted', 'annoyances', 'displace', 'traumatized', 'incompatible', 'snub', 'lacked', 'retard', 'stumbled', 'excessive', 'radical', 'deprived', 'fuzzy', 'confront', 'unnervingly', 'dungeons', 'sidetracked', 'disgruntle', 'suppression', 'hypocrisy', 'motionless', 'chatter', 'goon', 'virulence', 'confessions', 'enviousness', 'untimely', 'jutter', 'bestial', 'cunt', 'offence', 'disoobedient', 'dishonestly', 'bug', 'inappropriate', 'succumb', 'despise', 'smell', 'envious', 'misconceptions', 'improbability', 'atrocities', 'disbelief', 'frantic', 'kook', 'falter', 'feint', 'negative', 'phobic', 'rattled', 'snappishly', 'unjustified', 'waning', 'cheating', 'deficient', 'downside', 'self-interest', 'slaves', 'unyielding', 'overreach', 'pales', 'ruthlessly', 'conspiratorial', 'perturbed', 'concen', 'perversely', 'stubborn', 'disparaging', 'extremist', 'latency', 'furious', 'concessions', 'rejected', 'undocumented', 'backbite', 'despondently', 'rankle', 'throbs', 'thicker', 'deadlock', 'blundering', 'mismanage', 'faltered', 'delayed', 'dropout', 'oppressive', 'scarcity', 'scrambling', 'disconcerted', 'villian', 'horde', 'ironic', 'knock', 'miscalculate', 'zapped', 'muddy', 'beleaguer', 'irrationalities', 'unimportant', 'rebuff', 'horrendously', 'uproar', 'disturbingly', 'pariah', 'grind', 'impersonal', 'deterrent', 'betrays', 'tortures', 'harassment', 'angriness', 'bash', 'calumnious', 'expulse', 'inordinately', 'pickets', 'qualm', 'threat', 'disadvantage', 'wrinkled', 'fears', 'crafty', 'frail', 'apprehension', 'slap', 'sagged', 'nightmarish', 'degeneration', 'disparagingly', 'undissolved', 'wobbled', 'peeve', 'bearish', 'stupidest', 'ruined', 'dismissive', 'avariciously', 'scratches', 'explode', 'inconsequential', 'inadequate', 'trauma', 'averse', 'involuntarily', 'objectionable', 'bigotry', 'indignity', 'bothered', 'unreliability', 'importunate', 'lurk', 'notoriety', 'ordeal', 'alarmingly', 'relentlessness', 'obtuse', 'coward', 'insincerely', 'unsavory', 'annoyingly', 'vulnerable', 'wastefulness', 'absurdness', 'acerbate', 'failed', 'inconsistencies', 'tyrant', 'cloudy', 'domineer', 'darkness', 'enflame', 'vagueness', 'atrocious', 'errors', 'impede', 'overwhelm', 'anxious', 'dissatisfied', 'deceitfully', 'bungling', 'condemn', 'incoherence', 'indistinguishable', 'downfallen', 'irked', 'ill-mannered', 'downhill', 'underlings', 'inhuman', 'turbulent', 'desititute', 'squeal', 'insupportably', 'scorching', 'puny', 'unimaginable', 'skeptically', 'regrettably', 'graft', 'inequities', 'blemish', 'prick', 'bleeding', 'incongruous', 'dismalness', 'raving', 'incorrectly', 'grotesque', 'discomfititure', 'wack', 'horrify', 'corrosion', 'fatcat', 'malevolently', 'tawdry', 'scowl', 'unbearable', 'useless', 'unrelentingly', 'subversion', 'unbelievably', 'ailing', 'altercation', 'disconcertingly', 'dismally', 'mislead', 'naïve', 'apprehensive', 'provocation', 'smoke', 'indigent', 'insufferably', 'corruptted', 'sullen', 'unscrupulously', 'shortsightedness', 'upbraid', 'contaminating', 'dirtbags', 'scrap', 'ironically', 'disdain', 'militancy', 'fatuity', 'frightening', 'divisive', 'ill-used', 'hawkish', 'denigrate', 'panicky', 'sick', 'disinterest', 'unconvincingly', 'womanizer', 'harms', 'vomited', 'bore', 'lackluster', 'pale', 'anti-semites', 'indignantly', 'strange', 'unintelligible', 'maliciously', 'shatter', 'disillusioned', 'hard', 'detract', 'diss', 'infringement', 'outmoded', 'renunciation', 'unnatural', 'tin-y', 'bad', 'asinine', 'nag', 'negligent', 'cramping', 'jittery', 'repugn', 'buckle', 'crushed', 'foulness', 'unsettle', 'fatally', 'overdue', 'hellion', 'nervously', 'collusion', 'break-up', 'hate', 'hegemonism', 'exploitation', 'tediously', 'assassin', 'affliction', 'ultimatum', 'distains', 'high-priced', 'grainy', 'intefere', 'filth', 'rhetoric', 'toughness', 'unattractive', 'upset', 'paltry', 'spookier', 'insolently', 'slogging', 'wrangle', 'confusing', 'slowly', 'audacity', 'dense', 'demise', 'disservice', 'reluctantly', 'retarded', 'dissonant', 'clunky', 'collapse', 'disconsolately', 'scant', 'destroy', 'ambiguity', 'offensive', 'devious', 'barren', 'bondage', 'harrow', 'interruptions', 'nepotism', 'paradoxical', 'violate', 'asininely', 'calumny', 'pleas', 'repulsed', 'sneaky', 'heartbreaker', 'displaced', 'decayed', 'tease', 'prisoner', 'ignominious', 'inhibit', 'tension', 'touts', 'disquiet', 'humiliate', 'pan', 'prohibit', 'funnily', 'inundated', 'nightmare', 'overstates', 'testily', 'tauntingly', 'uproariously', 'disaffirm', 'static', 'loveless', 'unsettlingly', 'stubbornness', 'radicals', 'sedentary', 'spurious', 'quandary', 'disabled', 'shamelessness', 'asinininity', 'flounder', 'transgress', 'vengeance', 'insufferable', 'greasy', 'confrontational', 'liars', 'tramp', '2-faced', 'cave', 'confounded', 'shortchange', 'brazen', 'longing', 'enrage', 'precarious', 'peeled', 'shameless', 'quibbles', 'senselessly', 'gutter', 'suffers', 'hypocrite', 'intermittent', 'pervasive', 'disrupt', 'hustler', 'tamper', 'scars', 'skittishly', 'unkind', 'passe', 'feeble', 'imprisonment', 'sufferer', 'resigned', 'indecision', 'misinformed', 'alienate', 'inimical', 'noise', 'scourge', 'conspire', 'indifference', 'laid-off', 'renounce', 'shaky', 'cowardly', 'sack', 'outsider', 'melodramatic', 'spendy', 'incomplete', 'bewitch', 'crowdedness', 'grouchy', 'disoriented', 'sloow', 'nefarious', 'douchebags', 'rough', 'debase', 'diffidence', 'antagonize', 'disturbing', 'cannibalize', 'haggard', 'petrified', 'unfaithfully', 'harassed', 'tiresome', 'bumps', 'crook', 'baseless', 'drop-out', 'intoxicate', 'hated', 'emaciated', 'over-valuation', 'ungovernable', 'complain', 'murder', 'uncreative', 'woe', 'lags', 'interferes', 'corrupt', 'farce', 'swelled', 'tense', 'pokey', 'disgruntled', 'noisier', 'uncompetitive', 'oversimplify', 'hatred', 'imposers', 'fucking', 'warlike', 'prate', 'tormented', 'obstinate', 'isolate', 'doubts', 'scolding', 'zap', 'cartoonish', 'difficulty', 'cataclysmal', 'stress', 'flaunt', 'orphan', 'patronize', 'injury', 'showdown', 'squirm', 'deaf', 'unorthodox', 'decay', 'subjection', 'unjustifiable', 'wasteful', 'antagonism', 'rail', 'distressing', 'paranoia', 'debacle', 'ill-tempered', 'lose', 'treason', 'deprave', 'violator', 'transgression', 'irrecoverablenesses', 'dissatisfy', 'hedge', 'exile', 'gibberish', 'hoodwink', 'awkward', 'fascist', 'nauseate', 'hubris', 'instigator', 'sickly', 'broken-hearted', 'dizzingly', 'gasp', 'madden', 'spooky', 'cramped', 'back-woods', 'drones', 'dishearteningly', 'shabby', 'agony', 'challenging', 'blinding', 'sloooow', 'afraid', 'imprudent', 'disapproving', 'disregard', 'inhospitable', 'deplete', 'vicious', 'marginal', 'haphazard', 'repulsive', 'irks', 'mortification', 'breaking', 'inequitably', 'tattered', 'break', 'blab', 'ill-treatment', 'indiscreetly', 'sucks', 'intense', 'repulsing', 'gimmicking', 'defiance', 'worthlessly', 'breach', 'irksomeness', 'lurch', 'derisiveness', 'overdo', 'profane', 'slog', 'contention', 'overpower', 'grumpish', 'ominously', 'attacks', 'gracelessly', 'distastefully', 'despair', 'invalidate', 'archaic', 'haze', 'clouding', 'reticent', 'embarrassing', 'war-like', 'smudges', 'fanatic', 'slooow', 'lack', 'rumbling', 'ugliest', 'selfishly', 'injustices', 'destains', 'ill-usage', 'implicate', 'irrelevance', 'harm', 'inteferes', 'jeers', 'flee', 'risky', 'thirst', 'prideful', 'thoughtlessly', 'rife', 'prison', 'ambiguous', 'emergency', 'uncivilized', 'viper', 'invalidity', 'disadvantageous', 'hollow', 'lethargy', 'denounce', 'strangest', 'irritating', 'dropouts', 'drags', 'impair', 'kaput', 'stymied', 'jeopardy', 'straggler', 'flirty', 'unlawfully', 'irragularity', 'sh*t', 'menial', 'predatory', 'stiffness', 'bothering', 'wariness', 'second-class', 'silly', 'squeak', 'combative', 'hapless', 'ill-favored', 'swipe', 'time-consuming', 'seriousness', 'bemoan', 'stupidity', 'shimmy', 'frazzled', 'allegation', 'rogue', 'bitterness', 'jerk', 'fugitive', 'sinister', 'frightful', 'tyranny', 'annihilate', 'spank', 'stagnant', 'shock', 'disappointment', 'mashed', 'poky', 'insociable', 'provoke', 'shun', 'languorous', 'infected', 'bewail', 'hates', 'ill-treated', 'trample', 'lawbreaker', 'misfit', 'troubles', 'losing', 'falling', 'dump', 'conflicted', 'unbelievable', 'irrationally', 'grievance', 'wimpy', 'hestitant', 'ached', 'pretentious', 'itch', 'degrading', 'discrimination', 'irksome', 'irredeemable', 'misconception', 'oppositions', 'recoil', 'taint', 'anti-israeli', 'cheerless', 'breakdown', 'baffled', 'exhorbitant', 'intolerablely', 'discourteously', 'burned', 'lethal', 'irrecoverable', 'gripes', 'tragic', 'instigate', 'frenzied', 'bent', 'unaccustomed', 'unnerve', 'hypocritical', 'incomparable', 'finicky', 'mobster', 'sober', 'misbegotten', 'picky', 'exacerbate', 'imprecate', 'fumble', 'damned', 'irately', 'snobby', 'gossip', 'nefariously', 'belated', 'erodes', 'pricey', 'ripoff', 'impossiblity', 'last-ditch', 'haywire', 'vehemently', 'eyesore', 'grievous', 'encroach', 'loner', 'uncaring', 'capriciousness', 'disapointment', 'liable', 'dimmer', 'complaining', 'pigs', 'melancholy', 'setback', 'sorrow', 'sorrowfully', 'cash-strapped', 'syndrome', 'underpowered', 'mangled', 'insensible', 'imposing', 'chide', 'deride', 'mordant', 'hideousness', 'mortifying', 'throbbed', 'checkered', 'weaker', 'conspirator', 'intransigent', 'dissed', 'retract', 'illogic', 'conflicting', 'indiscriminate', 'crazily', 'bigotries', 'creeps', 'sob', 'irreplacible', 'discord', 'drought', 'vex', 'beg', 'contradict', 'gloomy', 'perverted', 'unusual', 'disillusions', 'unsatisfactory', 'mania', 'daunt', 'aground', 'flake', 'impose', 'mindlessly', 'dire', 'frustrated', 'miff', 'breakup', 'austere', 'barbarically', 'swamped', 'violently', 'downhearted', 'cheapen', 'partisans', 'superfluous', 'object', 'cravenly', 'imprecision', 'desolately', 'shrug', 'impudently', 'malady', 'slogged', 'infamous', 'tortured', 'clumsy', 'slowed', 'over-balanced', 'mishandle', 'garbage', 'penalty', 'absurdity', 'excruciating', 'hardship', 'smear', 'smuttiest', 'ineloquently', 'soreness', 'corrosions', 'corrupting', 'short-lived', 'hairloss', 'substandard', 'spite', 'hardships', 'prik', 'emasculate', 'detracts', 'growl', 'disappointed', 'infringe', 'stigmatize', 'incendiary', 'impure', 'banish', 'stressfully', 'sore', 'inhospitality', 'insatiable', 'recourses', 'acerbically', 'smelled', 'unprove', 'hangs', 'inferiority', 'unusable', 'dick', 'doom', 'weak', 'clamorous', 'upsets', 'leer', 'intrusive', 'fevers', 'impolite', 'pimple', 'cataclysm', 'illegitimate', 'bleak', 'divergent', 'broken', 'askance', 'obscurity', 'deject', 'autocrat', 'letch', 'distort', 'ax', 'disgraced', 'douchbag', 'suspicions', 'oblique', 'odd', 'procrastination', 'leakage', 'hating', 'poorer', 'rancor', 'avalanche', 'frustrations', 'grumpily', 'complains', 'rupture', 'bogus', 'wasting', 'notoriously', 'hard-line', 'disintegration', 'flaw', 'liability', 'sinking', 'grieving', 'childish', 'illness', 'impetuously', 'delaying', 'raging', 'swagger', 'womanizing', 'contrived', 'wallow', 'denunciate', 'haters', 'bleakness', 'fibber', 'so-cal', 'coupists', 'fusty', 'arbitrary', 'preoccupy', 'bashed', 'moody', 'unfinished', 'reprehensibly', 'dismayingly', 'infiltrators', 'sham', 'unpleasant', 'backwood', 'untrue', 'enfeeble', 'disgracefully', 'plague', 'tepid', 'reprovingly', 'doggedly', 'provocative', 'falsify', 'disappointing', 'slowest', 'debauchery', 'demean', 'streaky', 'woebegone', 'cons', 'worried', 'infidel', 'conflict', 'set-up', 'boiling', 'savages', 'hallucinate', 'queer', 'detestably', 'fruitless', 'drag', 'unreachable', 'untested', 'tanks', 'fool', 'smouldering', 'breaks', 'despoiler', 'slow', 'die', 'accost', 'occlude', 'unsafe', 'whores', 'tangle', 'hack', 'get-rich', 'awfully', 'argumentative', 'puppet', 'acrimoniously', 'bulkiness', 'perfidious', 'rantingly', 'unimaginably', 'unsound', 'tumbled', 'prattle', 'defamatory', 'disvalue', 'glare', 'fatalistically', 'erode', 'wrestle', 'undignified', 'rumours', 'stereotypical', 'undermined', 'critic', 'disaster', 'picketed', 'risk', 'uncouth', 'lechery', 'accusation', 'ridicule', 'deteriorate', 'dissembler', 'self-coup', 'weaknesses', 'dissatisfying', 'skeptic', 'overdone', 'heckled', 'disorganized', 'clog', 'disarm', 'nemesis', 'perish', 'dissatisfies', 'slowwww', 'villianously', 'vileness', 'undercutting', 'uninformed', 'contagious', 'aborts', 'forbidding', 'alienated', 'handicapped', 'molest', 'hypocricy', 'servitude', 'overbalanced', 'warily', 'gangster', 'mire', 'implausible', 'nitpick', 'squabble', 'unfairly', 'utterly', 'evasive', 'erosion', 'disappoints', 'repugnance', 'fractious', 'brutally', 'bugs', 'cancerous', 'flaws', 'gainsayer', 'mistrust', 'scar', 'sluggish', 'unfaithful', 'disheartening', 'cackle', 'inflexible', 'sunken', 'glum', 'propagandize', 'finagle', 'enslave', 'miserableness', 'dirty', 'less-developed', 'vomits', 'frustratingly', 'disrespect', 'outrageousness', 'retreat', 'dissolution', 'haunting', 'impoverish', 'catastrophe', 'disapprove', 'choppy', 'tenuous', 'proprietary', 'abscond', 'unknown', 'crap', 'bumpping', 'carnage', 'tricky', 'convoluted', 'protests', 'crueler', 'spiteful', 'calamity', 'wrought', 'bleakly', 'banishment', 'busts', 'crippled', 'defect', 'alienation', 'bellicose', 'heresy', 'importune', 'decadence', 'messes', 'sceptical', 'unintelligile', 'vengefully', 'aches', 'idiotic', 'irrepressible', 'shrivel', 'imperious', 'sanctimonious', 'slower', 'unreadable', 'deficiency', 'mawkishness', 'flickers', 'harsh', 'goof', 'injustice', 'huckster', 'occluding', 'hassles', 'inefficiently', 'controversy', 'hurts', 'severity', 'fierce', 'ploy', 'frets', 'admonish', 'chasten', 'bravado', 'bugging', 'sadly', 'overstated', 'pittance', 'demon', 'outrageously', 'interrupt', 'daunting', 'fictitious', 'shortcomings', 'startlingly', 'displeasure', 'ineffectively', 'dissappointing', 'unsustainable', 'erase', 'incongruously', 'haughtily', 'brusque', 'interruption', 'irredeemably', 'debatable', 'insular', 'occluded', 'stricken', 'top-heavy', 'exagerated', 'virulently', 'degradingly', 'admonishment', 'impermissible', 'raked', 'cheesy', 'sporadic', 'ineffective', 'shimmer', 'awkwardness', 'disproportionate', 'demeaning', 'downer', 'imperfection', 'implacable', 'impugn', 'little-known', 'macabre', 'overrated', 'cheater', 'shady', 'smoulder', 'dissent', 'unlikely', 'insensitively', 'omit', 'indulge', 'propaganda', 'genocide', 'chatterbox', 'lied', 'faults', 'falls', 'accuses', 'byzantine', 'brittle', 'covetous', 'plot', 'superficiality', 'undermines', 'blurry', 'suffer', 'fallout', 'combust', 'farcical-yet-provocative', 'lecher', 'recalcitrant', 'regress', 'negate', 'beggar', 'incompatability', 'exagerates', 'straggle', 'fidget', 'hell', 'ill-sorted', 'vibrates', 'disinterested', 'truant', 'blotchy', 'neurotic', 'hectic', 'fallacious', 'depraved', 'choke', 'mercilessly', 'punch', 'knotted', 'mischievous', 'fickle', 'absence', 'maladjusted', 'reprehensive', 'sicken', 'radically', 'ingratitude', 'mourner', 'discrepant', 'pervert', 'lovelorn', 'morbidly', 'throbbing', 'burdensome', 'disinclined', 'heckles', 'bias', 'impatiently', 'quarrelsome', 'rumors', 'revoke', 'wreck', 'molestation', 'fustigate', 'insensitive', 'absurdly', 'distorted', 'dragged', 'joke', 'killing', 'hazy', 'fearsome', 'strife', 'encroachment', 'whiny', 'capsize', 'wrinkles', 'flimflam', 'fail', 'repudiate', 'marginally', 'panic', 'commotion', 'mirage', 'diametrically', 'refuse', 'dangerousness', 'irreparable', 'deceitfulness', 'ambivalent', 'maniacal', 'sugar-coat', 'unlamentable', 'debt', 'sadness', 'slave', 'brashness', 'rue', 'poisonous', 'debilitating', 'ineloquent', 'conceited', 'wreaked', 'bashful', 'lugubrious', 'incitement', 'stranger', 'blindside', 'debility', 'detesting', 'calamities', 'obese', 'rumple', 'hazardous', 'divisiveness', 'dread', 'disavowal', 'drunken', 'grouse', 'sag', 'demonizing', 'fussy', 'irrationality', 'acridness', 'blistering', 'bruise', 'inadequately', 'grumpiest', 'lacks', 'exorbitant', 'disagreeing', 'outrage', 'hardliner', 'famine', 'deceitful', 'devilry', 'glib', 'lackadaisical', 'apathy', 'numb', 'struggle', 'hurt', 'shemale', 'boring', 'criticizing', 'deceivers', 'discontentedly', 'ghosting', 'struggled', 'judder', 'hacks', 'sin', 'barbaric', 'emptiness', 'falsehood', 'chore', 'skimpy', 'jam', 'imaginary', 'isolation', 'discontinuity', 'suspect', 'shockingly', 'jealously', 'imperfectly', 'cancer', 'bribery', 'dent', 'slogs', 'blabber', 'spew', 'mistakes', 'mediocre', 'prejudicial', 'watered-down', 'greed', 'manipulate', 'allergies', 'guilt', 'grimace', 'unfunded', 'dullard', 'backache', 'disrespectable', 'lowly', 'slug', 'denied', 'unwillingly', 'subordinate', 'mocked', 'obsessiveness', 'fanatically', 'calumniously', 'heathen', 'inconsequent', 'debasement', 'gawk', 'taunting', 'dizzing', 'procrastinate', 'long-time', 'confused', 'malodorous', 'stupify', 'overweight', 'wreak', 'undesirable', 'mysterious', 'aggressive', 'sucked', 'coarse', 'forfeit', 'forswear', 'implausibly', 'dissing', 'inadverently', 'hefty', 'suicidal', 'rattle', 'unviewable', 'villainous', 'unsuspecting', 'ding', 'indeterminate', 'needless', 'overthrow', 'plunderer', 'bashing', 'disadvantaged', 'contravene', 'prickles', 'taut', 'heavy-handed', 'disarray', 'stall', 'tarnish', 'volatile', 'shriek', 'vilify', 'unskilled', 'hasty', 'polluters', 'aggression', 'strictly', 'petrify', 'forgetfully', 'drab', 'criticize', 'inaudible', 'shoddy', 'affront', 'infuriating', 'obstructing', 'undid', 'problem', 'downturns', 'perversion', 'harass', 'slow-moving', 'insincere', 'irreformable', 'destitute', 'imprison', 'disquietude', 'craze', 'loose', 'straining', 'unfulfilled', 'nasty', 'mordantly', 'virus', 'detriment', 'stingingly', 'inevitably', 'dirtbag', 'untrustworthy', 'hotbeds', 'conceit', 'brat', 'addicted', 'refute', 'worse', 'thorny', 'multi-polarization', 'twists', 'allegations', 'torment', 'blow', 'unraveled', 'vague', 'extravagant', 'backwoods', 'dishonesty', 'madly', 'swollen', 'hogs', 'denunciation', 'unqualified', 'dispiritedly', 'perplex', 'dwindling', 'clueless', 'expired', 'scapegoat', 'fever', 'lonesome', 'mournful', 'plasticky', 'evasion', 'uproarous', 'mangling', 'sinisterly', 'unavoidably', 'cutthroat', 'discombobulate', 'unnecessary', 'savaged', 'stooges', 'dastardly', 'shame', 'sags', 'costly', 'badly', 'fallaciously', 'disdainful', 'infection', 'disrespectablity', 'exhausts', 'chastisement', 'sad', 'desolation', 'devilish', 'comical', 'error', 'indefensible', 'sully', 'smolder', 'uneasily', 'coercive', 'ricer', 'impossible', 'obscures', 'accusingly', 'galling', 'deviate', 'agonies', 'deadbeat', 'moron', 'uneasiness', 'fake', 'scold', 'contamination', 'misaligns', 'stunt', 'dodgey', 'devastates', 'woefully', 'besmirch', 'gritty', 'virulent', 'inane', 'hysteria', 'misguided', 'mistress', 'pettifog', 'remorselessly', 'glower', 'infraction', 'perfidity', 'wreaks', 'impudence', 'bewilderment', 'sticky', 'chronic', 'cheaply', 'egotism', 'headaches', 'flair', 'irritated', 'losses', 'niggles', 'incomprehensible', 'remorseful', 'scarily', 'blurred', 'terrible', 'protesting', 'fleer', 'din', 'fraudulent', 'damaged', 'worthlessness', 'destabilisation', 'refusal', 'concern', 'payback', 'symptoms', 'crumple', 'violent', 'whimper', 'discordant', 'costlier', 'battered', 'inextricably', 'isolated', 'incredulous', 'bungler', 'weary', 'insufficiently', 'obscure', 'noises', 'distraction', 'uncompromising', 'egocentric', 'rascal', 'tantrum', 'slump', 'forlorn', 'meaningless', 'disadvantages', 'stink', 'confound', 'creaking', 'heavyhearted', 'puzzlement', 'rage', 'grief', 'beseech', 'outrageous', 'rifts', 'disaffect', 'resentment', 'disapointing', 'blurring', 'frenzy', 'frustrate', 'demoralizingly', 'bereft', 'abused', 'vanity', 'weirdly', 'usurp', 'harried', 'pestilent', 'tank', 'unpleasantries', 'misinform', 'bid-rigging', 'barbarian', 'despicable', 'horrifys', 'bedlamite', 'castrated', 'incense', 'irking', 'ridiculously', 'inevitable', 'sickening', 'unsuccessful', 'flicering', 'violators', 'ineffectually', 'peeved', 'belittle', 'brazenness', 'screwed-up', 'unpredictable', 'freezes', 'inexpert', 'brainwash', 'suffering', 'naughty', 'scandalous', 'boastful', 'leech', 'stern', 'insecurity', 'dreadful', 'annihilation', 'inanely', 'belligerently', 'capitulate', 'lazy', 'prevaricate', 'limitations', 'rejecting', 'misunderstanding', 'refutes', 'resent', 'defrauding', 'needlessly', 'squash', 'irritant', 'embroiled', 'discountenance', 'denies', 'insubstantial', 'sorrowful', 'ripped', 'harbors', 'incapable', 'jealous', 'selfish', 'adamantly', 'harden', 'indecisive', 'problems', 'belie', 'sever', 'choleric', 'mischievously', 'scathingly', 'frost', 'delinquent', 'lukewarm', 'smut', 'apprehensions', 'sneer', 'craftily', 'jutters', 'refuted', 'protracted', 'abysmal', 'deviation', 'grievances', 'fatigue', 'frustrating', 'fatcats', 'feebleminded', 'joker', 'lewdness', 'forbidden', 'uproarously', 'irksomenesses', 'dirts', 'wasted', 'unacceptably', 'derisively', 'parody', 'dinky', 'frenetically', 'obliterated', 'imperfections', 'aspersions', 'corruption', 'threaten', 'perilous', 'hamper', 'donside', 'funky', 'glitch', 'unexpected', 'squabbling', 'shroud', 'drop-outs', 'dying', 'oppress', 'distract', 'abruptly', 'madder', 'confuse', 'contend', 'uneconomical', 'licentiousness', 'ho-hum', 'slaughter', 'doubt', 'liar', 'unaffordable', 'miser', 'indecency', 'trickery', 'involuntary', 'idiocy', 'insidious', 'gloom', 'undermine', 'wretchedly', 'motley', 'self-defeating', 'pessimism', 'sabotage', 'anxiousness', 'tumultuous', 'inaccurate', 'disgusted', 'excruciatingly', 'expensive', 'struggling', 'hype', 'limitation', 'indecent', 'obscenely', 'deter', 'throttle', 'annoy', 'embroilment', 'extortion', 'nonexistent', 'snobbish', 'drastically', 'appallingly', 'backaches', 'flagrantly', 'freeze', 'temper', 'dubiously', 'thoughtlessness', 'gauche', 'deterioration', 'bump', 'dungeon', 'damnation', 'dead', 'fiasco', 'discredit', 'erroneous', 'mistake', 'unwarranted', 'sloww', 'restrict', 'insanity', 'layoff', 'curse', 'prejudge', 'misgiving', 'subdued', 'subpoenas', 'sulk', 'mysteriously', 'dejectedly', 'pathetic', 'traumatize', 'unscrupulous', 'bumpy', 'exploit', 'cranky', 'forbid', 'inhumanity', 'stupidly', 'disturbance', 'attack', 'hurtful', 'foolhardy', 'saggy', 'unspeakablely', 'wedge', 'battering', 'admonition', 'fainthearted', 'irate', 'failure', 'overwhelms', 'warned', 'plebeian', 'irreversible', 'misalign', 'recant', 'deceiver', 'lackeys', 'goofy', 'vexation', 'overblown', 'horrifying', 'imbroglio', 'pugnaciously', 'rants', 'thankless', 'gape', 'imprudence', 'cruelly', 'inflame', 'slashing', 'sufferers', 'degenerately', 'stalemate', 'conspiracy', 'alarming', 'unworthy', 'deluge', 'corrosive', 'culprit', 'inept', 'dumped', 'audaciously', 'deceiving', 'brutalizing', 'fib', 'unlawfulness', 'disputed', 'hardliners', 'squeaks', 'coercion', 'exhort', 'flairs', 'issues', 'scandal', 'reckless', 'fanatics', 'hung', 'unsupported', 'extinguish', 'displeasing', 'intimidatingly', 'harpy', 'meddlesome', 'despoil', 'wretched', 'sardonic', 'delude', 'irregular', 'scramble', 'polarisation', 'indiscretion', 'negation', 'unuseably', 'lame', 'lame-duck', 'unthinkably', 'wrong', 'redundancy', 'indecorum', 'pillage', 'disgustingly', 'questionable', 'spoilages', 'unusably', 'hoax', 'disorder', 'illusory', 'infamy', 'flawed', 'revile', 'frazzle', 'nagging', 'recklessness', 'stains', 'ailment', 'oddity', 'butcher', 'bedlam', 'bum', 'exagerate', 'insulting', 'overpriced', 'rampage', 'shipwreck', 'bewildered', 'hiss', 'blockhead', 'flaking', 'illogically', 'annoyed', 'obliterate', 'fanatical', 'bitchy', 'deficiencies', 'abnormal', 'ill-defined', 'mockeries', 'pity', 'steep', 'vice', 'profanity', 'impediment', 'gibber', 'malignant', 'boil', 'lascivious', 'doddering', 'kill', 'morons', 'sinfully', 'undercut', 'rut', 'fascism', 'remorse', 'distress', 'precipitate', 'timidity', 'dumbfound', 'ungrateful', 'lier', 'stridently', 'unjustifiably', 'dupe', 'condemnation', 'discomfort', 'anarchy', 'fundamentalism', 'strike', 'incorrigibly', 'sorry', 'vulgar', 'myth', 'spoiled', 'disconsolate', 'contortions', 'darken', 'evildoer', 'hoard', 'antagonist', 'obstruct', 'overbalance', 'nettle', 'unwell', 'downbeat', 'stigma', 'farcically', 'licentious', 'insane', 'siege', 'baffle', 'bored', 'overturn', 'pointless', 'thoughtless', 'two-faced', 'unwillingness', 'dragging', 'taunts', 'complacent', 'dishonor', 'errant', 'fathomless', 'illogical', 'lamentable', 'malevolence', 'racism', 'raped', 'revulsion', 'unjustly', 'imperil', 'dislocated', 'nervous', 'lethargic', 'worrying', 'blunder', 'undercuts', 'acrimony', 'itchy', 'overplay', 'eviscerate', 'awfulness', 'hopeless', 'nervousness', 'setbacks', 'deceive', 'corrupted', 'inefficient', 'pitiless', 'unfavorable', 'moronic', 'misses', 'stumps', 'accusations', 'improbably', 'blandish', 'viciously', 'maliciousness', 'deadly', 'mourn', 'squander', 'depressed', 'forged', 'unresponsive', 'improperly', 'buzzing', 'adversity', 'worrier', 'contrariness', 'wretch', 'curt', 'overheat', 'pest', 'disobedient', 'officious', 'forebodingly', 'ruin', 'problematic', 'discouragement', 'laughingstock', 'sub-par', 'troubling', 'vibrating', 'contemptuously', 'dishonest', 'terrorize', 'untruthful', 'urgent', 'trapped', 'wickedness', 'downcast', 'befoul', 'loath', 'laughably', 'lagging', 'over-priced', 'treacherous', 'vestiges', 'farfetched', 'instability', 'defunct', 'fudge', 'fallen', 'irritably', 'misbehavior', 'rigid', 'doubtfully', 'wobble', 'congestion', 'wilt', 'bumped', 'delirious', 'frighten', 'mendacity', 'mistified', 'taxing', 'two-faces', 'wripping', 'insubstantially', 'hazard', 'sty', 'dishonorable', 'mock', 'unconstitutional', 'anarchistic', 'miscalculation', 'drawback', 'naive', 'aggravate', 'draining', 'laggy', 'prosecute', 'conservative', 'acrid', 'smutty', 'unfortunately', 'languor', 'bulkyness', 'hegemony', 'obsolete', 'drippy', 'shiver', 'unhealthy', 'obscene', 'snobs', 'struck', 'scarred', 'pillory', 'overtaxed', 'conspiracies', 'hasseling', 'incompliant', 'rollercoaster', 'bullyingly', 'dissocial', 'arduously', 'bruises', 'qualms', 'suffocate', 'batty', 'devastation', 'irritable', 'oddities', 'exhausted', 'pauper', 'jeering', 'diabolic', 'downturn', 'seethe', 'painful', 'craftly', 'diatribe', 'flickering', 'disaccord', 'disfavor', 'tragically', 'repressive', 'touted', 'neurotically', 'protest', 'torture', 'stump', 'wripped', 'flaky', 'embarrassingly', 'mudslinging', 'quibble', 'cruelty', 'extravagantly', 'inescapable', 'extermination', 'negatives', 'retreated', 'defensive', 'goad', 'overbearing', 'inconsiderately', 'risks', 'taunt', 'threesome', 'slumpping', 'uncomfortably', 'broke', 'hysteric', 'redundant', 'restlessness', 'defile', 'awful', 'hardball', 'debaser', 'fuck', 'insignificantly', 'malicious', 'mundane', 'crept', 'doubtful', 'deplore', 'chintzy', 'dispiriting', 'depression', 'decrement', 'lecherous', 'unreasonable', 'rhapsodize', 'downsides', 'cringe', 'desiccate', 'blaspheme', 'drawbacks', 'lone', 'fleed', 'pique', 'immovable', 'puppets', 'unuseable', 'chill', 'condescending', 'depressing', 'distressed', 'draconian', 'simplistic', 'destitution', 'barbarous', 'betrayer', 'brutalising', 'ill-formed', 'heck', 'pessimistic', 'hateful', 'solemn', 'massacre', 'mudslinger', 'reprove', 'hideous', 'traumatically', 'insufficiency', 'muscle-flexing', 'humid', 'rotten', 'adverse', 'betrayals', 'dreary', 'matte', 'vociferously', 'threats', 'flicker', 'stormy', 'sermonize', 'subjugate', 'facetious', 'inconceivable', 'unsettled', 'entrap', 'incautious', 'freak', 'entrapment', 'biased', 'complaints', 'outlaw', 'irksomely', 'displease', 'haste', 'incivility', 'extremism', 'instable', 'afflict', 'despondency', 'impulsively', 'fiend', 'avenge', 'unwise', 'impending', 'traped', 'incoherently', 'clogged', 'treasonous', 'misjudgment', 'dubitable', 'asunder', 'adulterier', 'culpable', 'gutless', 'quarrellous', 'deluded', 'temerity', 'sarcasm', 'unemployed', 'fulminate', 'insensitivity', 'faze', 'sweaty', 'vagrant', 'barbarously', 'distraught', 'enraging', 'morbid', 'faulty', 'uglier', 'ultra-hardline', 'detested', 'idle', 'impertinent', 'dissidence', 'brute', 'hardened', 'screech', 'castigate', 'oversights', 'scandals', 'disillusion', 'misunderstand', 'spinster', 'burn', 'freezing', 'corrode', 'ache', 'invader', 'desolate', 'scorn', 'shamefully', 'apologists', 'condemned', 'undermining', 'confounding', 'aggravating', 'confession', 'smelt', 'wince', 'bloodthirsty', 'exaggeration', 'inopportune', 'antithetical', 'ruffle', 'indelicate', 'viciousness', 'dictatorial', 'fleeting', 'junkyard', 'discordance', 'monstrously', 'refusing', 'susceptible', 'tortuous', 'unproves', 'wickedly', 'emphatically', 'detest', 'egotistically', 'loss', 'helpless', 'whips', 'exorbitantly', 'devastatingly', 'offending', 'hater', 'diabolically', 'subjugation', 'detestable', 'reprehension', 'waste', 'feckless', 'cheats', 'immaterial', 'condemns', 'goading', 'scoff', 'spade', 'sucky', 'dissension', 'iniquity', 'traitorous', 'strenuous', 'lurid', 'back-wood', 'fateful', 'languorously', 'overthrows', 'downgrade', 'fearful', 'tiringly', 'dissatisfaction', 'clamor', 'ignorance', 'undersized', 'deteriorating', 'retardedness', 'sobering', 'inappropriately', 'enjoin', 'unworkable', 'grudgingly', 'admonisher', 'bonkers', 'disgrace', 'frenetic', 'leaky', 'cuss', 'lapse', 'mislike', 'elimination', 'scrambles', 'stampede', 'dings', 'testy', 'tyrannically', 'unclean', 'maladjustment', 'manipulators', 'spewing', 'crass', 'astray', 'mad', 'spotty', 'ugliness', 'absentee', 'deceptively', 'haunt', 'unsure', 'gnawing', 'demonizes', 'blasphemous', 'ill-advised', 'cruelties', 'demonize', 'tarnished', 'unsecure', 'tentatively', 'stole', 'unachievable', 'extremists', 'failures', 'lacking', 'perplexed', 'recessionary', 'demonic', 'fails', 'injure', 'inexpertly', 'anarchism', 'gloatingly', 'quarrellously', 'senseless', 'hinder', 'unjust', 'shirk', 'extort', 'unthinkable', 'amiss', 'disagreement', 'impaired', 'maledict', 'overawe', 'cataclysmically', 'senile', 'obstructs', 'scandalize', 'spookiest', 'restrictive', 'creep', 'self-criticism', 'imposition', 'illegally', 'unconfirmed', 'mispronounce', 'grossly', 'ill-natured', 'intimidating', 'irk', 'obstruction', 'cronyism', 'fastidious', 'juddering', 'misunderstood', 'hostage', 'secretive', 'stab', 'tempest', 'arrogance', 'messing', 'delirium', 'uncollectible', 'diappointed', 'bewilder', 'dissapointed', 'scams', 'perturb', 'graceless', 'faithless', 'drunk', 'shameful', 'futile', 'ferociously', 'outburst', 'scandalized', 'unseemly', 'disasterous', 'cringes', 'crappy', 'zealot', 'contrive', 'killjoy', 'onerously', 'sucker', 'listless', 'perplexity', 'clogs', 'grudge', 'pains', 'antipathy', 'illicit', 'impatience', 'excuse', 'disintegrates', 'disappointments', 'subvert', 'discoutinous', 'midget', 'posturing', 'scuff', 'scoundrel', 'apathetic', 'gravely', 'mocking', 'hallucination', 'backward', 'dies', 'fanaticism', 'jabber', 'complained', 'misguidance', 'opinionated', 'solicitude', 'unreasonably', 'farcical', 'despairingly', 'irony', 'fictional', 'niggle', 'crash', 'uproarious', 'hurting', 'unhappy', 'offender', 'lie', 'boycott', 'weird', 'injurious', 'chaos', 'unproven', 'repudiation', 'lure', 'impasse', 'unresolved', 'inconsistency', 'collude', 'endanger', 'narrower', 'stumbles', 'inflammed', 'ignore', 'indeterminably', 'capriciously', 'inequality', 'regression', 'recklessly', 'steal', 'betraying', 'fist', 'foul', 'jobless', 'seedy', 'shit', 'misjudge', 'sneakily', 'maddening', 'galls', 'audacious', 'disturb', 'impenitent', 'impunity', 'poison', 'un-viewable', 'sorely', 'distracting', 'agonizingly', 'tacky', 'prejudice', 'invalid', 'disapprobation', 'bullies', 'horrific', 'inadequacy', 'sarcastically', 'stupified', 'disdainfully', 'recession', 'strut', 'foreboding', 'criticism', 'sacrificed', 'freakishly', 'apathetically', 'standstill', 'plunder', 'decline', 'presumptuous', 'illiterate', 'dreadfully', 'onslaught', 'crumble', 'dazed', 'vengeful', 'declining', 'disrespectful', 'insurmountable', 'grumpier', 'starve', 'bereave', 'sidetrack', 'blame', 'lawbreaking', 'oddest', 'oppose', 'audaciousness', 'torturously', 'deceptive', 'life-threatening', 'sputter', 'one-sided', 'smugly', 'disparage', 'demoralizing', 'foolishness', 'barbarity', 'chilly', 'diatribes', 'scam', 'vainly', 'crumbling', 'loathly', 'subpoena', 'alarm', 'discontinued', 'blur', 'exasperation', 'paradoxically', 'relentlessly', 'reviled', 'revulsive', 'distasteful', 'sue', 'damaging', 'degradation', 'dawdle', 'dizzy', 'egotistical', 'hells', 'inoperable', 'irrationals', 'needy', 'perplexing', 'unreliable', 'catastrophically', 'deform', 'parasite', 'stinks', 'weakness', 'babble', 'martyrdom-seeking', 'exorbitantance', 'headache', 'gripe', 'feverish', 'reprehensible', 'credulous', 'snob', 'stupid', 'deformed', 'worryingly', 'lawlessness', 'coldly', 'restless', 'calamitous', 'misread', 'delinquency', 'fault', 'frustration', 'insurmountably', 'screw-up', 'direness', 'drain', 'rremediable', 'lament', 'grieve', 'immoral', 'grapple', 'aweful', 'cuplrit', 'dissemble', 'roadblocks', 'troublesome', 'reproach', 'floored', 'lag', 'dispirit', 'funny', 'shocking', 'traitorously', 'bullying', 'overpayed', 'aggressiveness', 'reprimand', 'malcontented', 'warp', 'menacing', 'arcane', 'indecisively', 'disclaim', 'leaks', 'besiege', 'outcry', 'subversively', 'dilly-dally', 'enemy', 'annoys', 'infringements', 'cursed', 'cripples', 'rude', 'fallacies', 'stiff', 'horrendous', 'scummy', 'undone', 'shake', 'disregardful', 'missed', 'poorest', 'ineffectualness', 'unfounded', 'premeditated', 'abrade', 'unequal', 'lewdly', 'repugnant', 'wobbles', 'disorient', 'sluts', 'worn', 'hissing', 'hostility', 'frustrates', 'suspicious', 'peculiarly', 'fragile', 'bicker', 'measly', 'peevish', 'irreconcilable', 'inadvisable', 'persecute', 'appalling', 'inelegant', 'unpopular', 'caricature', 'dilapidated', 'tarnishes', 'denying', 'forceful', 'slanderer', 'desperation', 'dejected', 'heartbreaking', 'unsteadily', 'helplessly', 'frictions', 'irretrievable', 'cripple', 'greedy', 'miserly', 'burns', 'blackmail', 'controversial', 'disrepute', 'creeping', 'picketing', 'instigators', 'smack', 'frozen', 'leery', 'abominably', 'snagging', 'stinging', 'inexorable', 'bitingly', 'fraught', 'bewilderingly', 'shambles', 'terribly', 'radicalization', 'bitch', 'disruption', 'paralyzed', 'wretchedness', 'gruesomely', 'insupportable', 'blah', 'superstition', 'craven', 'rant', 'fall', 'tardy', 'dissention', 'compulsion', 'dumb', 'bunk', 'stresses', 'disapproval', 'peculiar', 'symptom', 'troubled', 'cramp', 'inefficacious', 'tyrannical', 'venom', 'deceit', 'disruptive', 'insignificant', 'pinch', 'distraughtness', 'anxiety', 'rumor', 'cataclysmic', 'disavow', 'immoderately', 'nebulous', 'blatant', 'dissonantly', 'fume', 'uneven', 'venomously', 'vibrate', 'bombastic', 'complicated', 'flareup', 'froze', 'inattentive', 'burning', 'disappoint', 'downfall', 'misbehave', 'immobilized', 'remorseless', 'shadowy', 'irrecoverableness', 'caustic', 'disagree', 'flirt', 'grudging', 'unforgiving', 'petty', 'whining', 'lamentably', 'indiscernible', 'sneak', 'mischief', 'stealing', 'dreadfulness', 'strangely', 'plagiarize', 'brainless', 'discontented', 'sloppy', 'disunity', 'insinuation', 'meanness', 'unmoved', 'oversize', 'misaligned', 'disagrees', 'tentative', 'pollute', 'weariness', 'spoilage', 'arrogantly', 'mournfully', 'spoon-fed', 'totalitarian', 'monstrosity', 'weed', 'angry', 'shallow', 'whore', 'carp', 'disagreeably', 'irascible', 'penalize', 'dispirited', 'despondent', 'hell-bent', 'douchebag', 'commiserate', 'backbiting', 'stubbornly', 'dogmatic', 'sinful', 'insultingly', 'overstatements', 'disobedience', 'unlamentably', 'wound', 'droop', 'decrepitude', 'defame', 'forlornly', 'spitefully', 'devoid', 'aggrieve', 'exhaustion', 'disintegrated', 'grating', 'insurrection', 'scornfully', 'scratch', 'disgustful', 'perverse', 'unacceptable', 'weaken', 'hegemonistic', 'decadent', 'worst', 'disputable', 'skulk', 'entangle', 'quitter', 'gallingly', 'mystify', 'chagrin', 'smokescreen', 'wrongful', 'brood', 'impotent', 'unrealistic', 'complication', 'fumes', 'threatening', 'inescapably', 'unipolar', 'annoyance', 'adamant', 'fatigued', 'assassinate', 'bereavement', 'concens', 'blather', 'sickness', 'critics', 'mendacious', 'ignorant', 'self-humiliation', 'fatty', 'jeopardize', 'tedious', 'dragoon', 'insincerity', 'ridicules', 'boisterous', 'despicably', 'imminently', 'inordinate', 'pout', 'hedonistic', 'lewd', 'futilely', 'disgustedly', 'worries', 'gabble', 'extraneous', 'sloppily', 'persecution', 'undetermined', 'strict', 'monstrosities', 'crummy', 'uninsured', 'accusing', 'undue', 'blunt', 'embattled', 'odor', 'slut', 'litigious', 'eruptions', 'obsessive', 'evade', 'delay', 'rabid', 'slanderously', 'chunky', 'subversive', 'illegal', 'run-down', 'scarier', 'abuse', 'back-logged', 'bristle', 'incredulously', 'ruffian', 'drained', 'fatalistic', 'furor', 'intrusion', 'refuting', 'repulsively', 'slur', 'underdog', 'wayward', 'overstatement', 'insulted', 'flighty', 'insolence', 'grouch', 'deadweight', 'fidgety', 'ill-conceived', 'unneeded', 'blatantly', 'animosity', 'cry', 'enemies', 'expire', 'fraud', 'glaringly', 'hothead', 'stutters', 'inculcate', 'sting', 'sues', 'obstacle', 'gaffe', 'incorrect', 'inhibition', 'loophole', 'caustically', 'suspicion', 'dissident', 'harboring', 'irresolvable', 'suicide', 'warning', 'polution', 'discouraging', 'd*mn', 'flares', 'boredom', 'incessant', 'dark', 'reluctance', 'skittish', 'hard-liner', 'rigidness', 'treacherously', 'egregious', 'misbecoming', 'offenses', 'drips', 'stuffy', 'immorally', 'err', 'conceded', 'trashy', 'unauthentic', 'difficulties', 'bitter', 'detrimental', 'hatefully', 'quash', 'misinterpret', 'bleed', 'death', 'critical', 'discontent', 'itching', 'reproachful', 'inadvisably', 'misstatement', 'unethical', 'shark', 'vengefulness', 'cracks', 'filthy', 'beggarly', 'gullible', 'skeptical', 'intrude', 'stressful', 'trap', 'brazenly', 'ragged', 'ramshackle', 'ignoble', 'impolitic', 'gimmick', 'flare', 'fearfully', 'despotism', 'steals', 'sunder', 'sink', 'unsupportive', 'pointlessly', 'absurd', 'gimmicks', 'licentiously', 'dissonance', 'imbecile', 'misreading', 'brutish', 'berate', 'absent-minded', 'aspersion', 'estranged', 'aborted', 'inconsiderate', 'topple', 'tumbles', 'unable', 'neglect', 'asperse', 'obstructed', 'blurt', 'desecrate', 'distrust', 'harshly', 'fatuous', 'panicking', 'stringent', 'trouble', 'uncompromisingly', 'complex', 'vibration', 'worry', 'zealous', 'gawky', 'grate', 'hassle', 'smug', 'warped', 'avarice', 'skepticism', 'flees', 'unproductive', 'malign', 'unnerving', 'erratic', 'overzealous', 'vociferous', 'unclear', 'refuses', 'allergic', 'break-ups', 'flagging', 'bust', 'lackey', 'nettlesome', 'dangerous', 'tangled', 'undecided', 'spook', 'imprecisely', 'allergy', 'moot', 'rival', 'killer', 'discomfit', 'discourteous', 'plotters', 'cloud', 'pig', 'vexing', 'full-blown', 'resignation', 'slaughtered', 'felonious', 'unwieldy', 'scandels', 'frigging', 'dissuasive', 'inconsequentially', 'debauch', 'tired', 'misuse', 'humiliating', 'lunaticism', 'sloooooooooooooow', 'distrusting', 'dejection', 'innuendo', 'perilously', 'doldrums', 'inhumane', 'brutalize', 'irritate', 'spoils', 'polluter', 'hobble', 'nauseates', 'blockage', 'disobey', 'downheartedly', 'cautionary', 'rocky', 'second-tier', 'loathsome', 'irresolute', 'precipitous', 'rejection', 'carelessness', 'knave', 'exasperate', 'disrespectfulness', 'stain', 'crooked', 'impious', 'quack', 'manipulation', 'foully', 'incomparably', 'stolen', 'restriction', 'lousy', 'addicts', 'balk', 'stalls', 'pry', 'unobserved', 'panicked', 'forsaken', 'gross', 'intimidation', 'stunted', 'sueing', 'unravel', 'debts', 'depressions', 'grievously', 'objections', 'anti-proliferation', 'unwisely', 'direly', 'blind', 'fatal', 'indeterminable', 'suppress', 'friction', 'low-rated', 'bickering', 'vain', 'flagrant', 'debaucher', 'ominous', 'offend', 'sunk', 'plaything', 'blameworthy', 'monster', 'uncertain', 'impoverished', 'panick', 'laughable', 'hampered', 'distortion', 'misrepresent', 'stagnation', 'sensationalize', 'overact', 'venomous', 'jumpy', 'wrest', 'addict', 'languid', 'ironical', 'invidious', 'feign', 'phobia', 'overloaded', 'improper', 'jeer', 'scary', 'malaise', 'unhappily', 'repetitive', 'prohibitively', 'repel', 'betrayal', 'bores', 'pricier', 'unexpectedly', 'menace', 'abrasive', 'confess', 'somber', 'unsteadiness', 'stifling', 'eschew', 'revolting', 'panders', 'wrongly', 'yawn', 'vent', 'unleash', 'suck', 'tenderness', 'hastily', 'rebuke', 'subtract', 'imperiously', 'harangue', 'chafe', 'ulterior', 'troublesomely', 'fissures', 'frighteningly', 'occludes', 'shrouded', 'omission', 'disastrous', 'inextricable', 'toll', 'sourly', 'dull', 'leak', 'friggin', 'punk', 'runaway', 'fluster', 'pernicious', 'overacted', 'partiality', 'wiles', 'twist', 'sketchy', 'unwelcome', 'upsetting', 'disorderly', 'washed-out', 'irregularity', 'bragger', 'neglected', 'opportunistic', 'pitilessly', 'biases', 'agonizing', 'inveigle', 'lividly', 'sour', 'loopholes', 'strained', 'misfortune', 'disallow', 'illusions', 'nebulously', 'slumping', 'unsteady', 'disastrously', 'inflationary', 'discriminate', 'dissidents', 'bemused', 'nuisance', 'rip-off', 'deplorable', 'hiliarious', 'sickeningly', 'smallish', 'staid', 'begging', 'condescend', 'nauseatingly', 'infested', 'inconsolably', 'poisonously', 'torturing', 'sadden', 'lambast', 'tanked', 'paupers', 'callous', 'upseting', 'oblivious', 'dictator', 'nitpicking', 'quarrel', 'destroyer', 'creak', 'refused', 'famished', 'tenuously', 'bs', 'loathing', 'troublingly', 'self-interested', 'freakish', 'wheedle', 'ashamed', 'rejects', 'bloody', 'concede', 'dissappointed', 'subservient', 'died', 'detests', 'eccentric', 'abort', 'haughty', 'disloyalty', 'inexpiable', 'inferior', 'criticized', 'satirize', 'unforeseen', 'overpaid', 'misgivings', 'plight', 'issue', 'left-leaning', 'heretic', 'dim', 'f**k', 'pitifully', 'teasingly', 'bullshit', 'exasperatingly', 'limits', 'conflicts', 'timidly', 'rigidity', 'shrilly', 'careless', 'disillusionment', 'counter-productive', 'frigid', 'fatique', 'effigy', 'daze', 'disintegrate', 'mawkishly', 'shirker', 'wearisome', 'travesty', 'nosey', 'infiltrator', 'overemphasize', 'fractiously', 'snare', 'startling', 'flareups', 'inapt', 'revengeful', 'superstitious', 'guilty', 'calumnies', 'danger', 'dissuade', 'scorchingly', 'inequalities', 'aggressor', 'infamously', 'overrun', 'abominable', 'earsplitting', 'evils', 'complicit', 'skeletons', 'ghastly', 'zombie', 'prohibitive', 'misery', 'inaction', 'oppression', 'fat', 'anti-american', 'contort', 'boggle', 'unacceptablely', 'strident', 'tingling', 'election-rigger', 'loot', 'miscreants', 'complaint', 'scandel', 'wary', 'stutter', 'disconsolation', 'unaccessible', 'indiscreet', 'pain', 'ruinous', 'unsophisticated', 'inflict', 'felon', 'defective', 'butchery', 'impossibly', 'infernal', 'ire', 'mistaken', 'protested', 'mope', 'submissive', 'jitter', 'anti-social', 'sloth', 'glut', 'cruel', 'longingly', 'bumping', 'cynical', 'disbeliever', 'quarrels', 'mispronounced', 'unbearablely', 'perversity', 'fury', 'killed', 'throb', 'assail', 'limited', 'pitiful', 'painfull', 'fruitlessly', 'hang', 'biting', 'sugarcoated', 'crushing', 'oppressiveness', 'job-killing', 'zaps', 'unrelenting', 'fawningly', 'overwhelmingly', 'touchy', 'strangle', 'undependability', 'unlicensed', 'idiots', 'bizarre', 'untouched', 'tarnishing', 'lumpy', 'haggle', 'ludicrous', 'mists', 'temptation', 'counterproductive', 'tingled', 'trivialize', 'leaking', 'declines', 'invasive', 'infest', 'bombardment', 'fuss', 'revenge', 'disingenuous', 'clique', 'allege', 'fear', 'contradictory', 'fretful', 'miscellaneous', 'rot', 'disquieting', 'impudent', 'rivalry', 'distorts', 'bleeds', 'scuffs', 'fabrication', 'unproving', 'incite', 'smoldering', 'fiction', 'cold', 'spoil', 'maltreatment', 'deploringly', 'conspicuous', 'blindingly', 'horrifies', 'jaded', 'nauseating', 'ugly', 'hypocrites', 'mocks', 'imprecise', 'incommensurate', 'water-down', 'miss', 'over-awe', 'hum', 'obsess', 'devastating', 'livid', 'pratfall', 'flakieness', 'confusions', 'crazy', 'ruining', 'disliked', 'beguile', 'hard-hit', 'mockingly', 'stale', 'loathe', 'bluring', 'mawkish', 'unnerved', 'degrade', 'inarticulate', 'regrettable', 'mistrustful', 'brimstone', 'overzealously', 'regrets', 'uncomfortable', 'ravage', 'heretical', 'insolvent', 'detracted', 'snagged', 'calumniate', 'pertinacious', 'rift', 'terror-genic', 'tiring', 'scare', 'lifeless', 'discontinuous', 'stooge', 'misdirection', 'gruff', 'demolish', 'obstinately', 'disgust', 'backaching', 'hassled', 'inaccurately', 'rattles', 'negligence', 'corrupts', 'brash', 'dismal', 'zealously', 'devil', 'inaccuracy', 'seething', 'unwilling', 'wounds', 'sugar-coated', 'congested', 'distressingly', 'extravagance', 'accursed', 'inefficacy', 'audiciously', 'adulterated', 'beware', 'catastrophic', 'dishearten', 'lagged', 'offensiveness', 'anguish', 'flat-out', 'censure', 'miserable', 'villains', 'menacingly', 'demoralize', 'chaff', 'vindictiveness', 'giddy', 'mar', 'ironies', 'belittled', 'noxious', 'ineffectiveness', 'bulkier', 'spoilled', 'taboo', 'punitive', 'bomb', 'improbable', 'cheap', 'inconceivably', 'jerky', 'shunned', 'fat-cat', 'false', 'disgraceful', 'injudicious', 'lunatic', 'hothouse', 'infuriated', 'dumping', 'droops', 'aching', 'hopelessness', 'revoltingly', 'anomalous', 'desultory', 'disingenuously', 'crabby', 'discourage', 'far-fetched', 'inexcusable', 'curses', 'lost', 'paralize', 'defiant', 'arrogant', 'nonsense', 'pitiable', 'disinclination', 'adversarial', 'worriedly', 'confrontation', 'shortness', 'thumbs-down', 'cruelest', 'idiot', 'loud', 'louder', 'moan', 'intimidate', 'inaccuracies', 'fanciful', 'aimless', 'horrified', 'tetchily', 'craps', 'deception', 'harmed', 'hindrance', 'repulse', 'inexorably', 'murderer', 'mist', 'oppressively', 'semi-retarded', 'shrew', 'immodest', 'snags', 'crowded', 'vehement', 'volatility', 'chaotic', 'bewildering', 'evil', 'enraged', 'jeeringly', 'sardonically', 'equivocal', 'impetuous', 'diabolical', 'contaminates', 'poverty', 'catastrophes', 'slime', 'declaim', 'dislikes', 'embarrass', 'furiously', 'gainsay', 'garish', 'impatient', 'oppressors', 'stuck', 'discompose', 'epidemic', 'spilling', 'inadverent', 'apocalyptic', 'hypocritically', 'savage', 'cheat', 'hostile', 'imbalance', 'jaundiced', 'puzzled', 'stuttering', 'sued', 'unsuccessfully', 'hissed', 'irrelevant', 'irresponsible', 'lull', 'opposition', 'over-hyped', 'beset', 'dehumanize', 'dripped', 'gimmicked', 'kooky', 'hysterically', 'disconcerting', 'pugnacious', 'ruins', 'stodgy', 'soapy', 'incomprehension', 'indiscriminating', 'discriminatory', 'ineligible', 'disaffected', 'lapses', 'smudge', 'smudged', 'defects', 'fatuously', 'havoc', 'imperialist', 'enmity', 'inconvenience', 'subjected', 'belabor', 'expunge', 'gaudy', 'breakups', 'gruesome', 'defamations', 'opponent', 'resistance', 'malcontent', 'unexplained', 'glitches', 'harasses', 'blurs', 'delusions', 'heinous', 'irritation', 'nonresponsive', 'degenerate', 'muddle', 'disown', 'sagging', 'god-awful', 'derisive', 'desiccated', 'immature', 'inexperienced', 'pretense', 'banalize', 'adversary', 'freaks', 'unkindly', 'capricious', 'stagnate', 'decry', 'limit', 'effrontery', 'puzzling', 'riled', 'vindictive', 'incompatibility', 'racist', 'cringed', 'snarky', 'stingy', 'stereotype', 'rubbish', 'helplessness', 'layoff-happy', 'miseries', 'pretend', 'worthless', 'devastate', 'abuses', 'snarl', 'insecure', 'twisted', 'sap', 'crush', 'primitive', 'malevolent', 'disloyal', 'destructive', 'whine', 'squeaky', 'slanderous', 'bankrupt', 'aggravation', 'villianous', 'dispute', 'bloated', 'grudges', 'belligerent', 'heedless', 'indoctrination', 'antiquated', 'long-winded', 'fallacy', 'moribund', 'domineering', 'disordered', 'intransigence', 'preposterous', 'murderous', 'mess', 'blasphemy', 'impiety', 'miserably', 'bully', 'jealousness', 'slack', 'bait', 'harmful', 'infuriate', 'poorly', 'rascals', 'shamefulness', 'poor', 'disbelieve', 'defy', 'immoderate', 'imminence', 'indifferent', 'appall', 'jarring', 'aggrivation', 'terrorism', 'pessimistically', 'insignificance', 'hardheaded', 'jolt', 'darkened', 'uncooperative', 'smash', 'monstrous', 'thumb-down', 'wrath', 'freaking', 'crashed', 'facetiously', 'fatefully', 'inexplainable', 'rip', 'perverts', 'squealing', 'floundering', 'meager', 'scrambled', 'lying', 'monotony', 'unhappiness', 'frantically', 'passiveness', 'blunders', 'disapointed', 'torrent', 'bemoaning', 'implication', 'incompetently', 'hurted', 'figurehead', 'stereotypically', 'meddle', 'entanglement', 'oversimplification', 'mistakenly', 'repress', 'uncivil', 'hardhearted', 'dilemma', 'phony', 'implode', 'assult', 'unfit', 'regretted', 'traumatic', 'revert', 'ostracize', 'mystery', 'disses', 'rusts', 'stun', 'obsessively', 'martyrdom', 'overbearingly', 'pathetically', 'destruction', 'irrational', 'invisible', 'lesser-known', 'relapse', 'self-destructive', 'deny', 'smudging', 'fetid', 'catastrophies', 'horrid', 'achey', 'scariest', 'enervate', 'smelly', 'ultimatums', 'split', 'hesitant', 'deprive', 'belittling', 'iniquitous', 'outbursts', 'resurgent', 'cynicism', 'enviously', 'coerce', 'emphatic', 'deviously', 'paucity', 'expropriate', 'disprove', 'discouragingly', 'deviousness', 'unwanted', 'regretfully', 'steeply', 'bloodshed', 'over-acted', 'angrily', 'delays', 'addicting', 'condescension', 'cumbersome', 'misrepresentation', 'procrastinates', 'uncontrolled', 'murderously', 'thrash', 'gimmicky', 'expropriation', 'rebellious', 'weakening', 'slanders', 'flak', 'infections', 'usurper', 'unilateralism', 'scandalously', 'halfhearted', 'pretentiously', 'shortcoming', 'dishonorablely', 'despairing', 'oversight', 'racy', 'sillily', 'smuttier', 'pugnacity', 'vexingly', 'massacres', 'excoriate', 'madness', 'denial', 'admonishingly', 'swindle', 'thug', 'tricked', 'ineptitude', 'bitterly', 'rusty', 'mulish', 'timidness', 'disagreed', 'inaptitude', 'incompetence', 'ridiculous', 'toxic', 'vile', 'baffling', 'tetchy', 'screwy', 'strain', 'beastly', 'hideously', 'deprecate', 'pedantic', 'misleadingly', 'offensively', 'horrible', 'screwed', 'bulky', 'ludicrously', 'exasperated', 'halfheartedly', 'consternation', 'draconic', 'impedance', 'crisis', 'stumble', 'incognizant', 'ingrate', 'smells', 'abusive', 'brutalities', 'flimsy', 'scaly', 'toil', 'remorselessness', 'browbeat', 'concerns', 'forgetfulness', 'desertion', 'pertinacity', 'picket', 'busybody', 'wail', 'jitters', 'dismaying', 'inundate', 'assault', 'bruising', 'disquietingly', 'unprepared', 'damages', 'wily', 'unlawful', 'drains', 'buggy', 'defamation', 'glibly', 'disgustfully', 'inimically', 'satirical', 'suffered', 'unnaturally', 'inclement', 'ineptly', 'partisan', 'forgetful', 'mangle', 'dearth', 'clash', 'misapprehend', 'unstable', 'merciless', 'repulsiveness', 'splatter', 'accuse', 'misbecome', 'selfinterested', 'fret', 'dastard', 'burden', 'egregiously', 'unspeakable', 'unappealing', 'smother', 'lambaste', 'inflammatory', 'traduce', 'predicament', 'divisively', 'fastuous', 'unfeeling', 'embarrassment', 'sass', 'commotions', 'crippling', 'selfishness', 'defiler', 'hotheaded', 'overstate', 'regretful', 'ruthless', 'forsake', 'creaks', 'junky', 'contaminate', 'dogged', 'messy', 'exhaust', 'banal', 'incompetent', 'subservience', 'superficially', 'delusional', 'woeful', 'irresponsibly', 'disdained', 'lurking', 'scratchy', 'stark', 'swelling', 'fragmented', 'demolisher', 'troublemaker', 'fat-cats', 'reactionary', 'chastise', 'upheaval', 'illusion', 'braggart', 'snappish', 'overshadow', 'onerous', 'confuses', 'stiflingly', 'scoldingly', 'raping', 'ineffectual', 'stifle', 'outbreak', 'unrest', 'concerned', 'outcast', 'obscured', 'ranting', 'resentful', 'ruts', 'vomiting', 'cussed', 'berserk', 'alarmed', 'invective', 'insinuating', 'disable', 'defiantly', 'humiliation', 'frown', 'plea', 'scornful', 'self-serving', 'malice', 'reluctant', '2-faces', 'undefined', 'violation', 'flout', 'loses', 'repugnantly', 'unease', 'crumpled', 'simplistically', 'startle', 'cliched', 'rile', 'irretating', 'apprehensively', 'aloof', 'demonized', 'eccentricity', 'adulterate', 'inactive', 'botch', 'gall', 'punish', 'spookily', 'dismissively', 'wane', 'fell', 'criminal', 'mistrustfully', 'stupor', 'misleading', 'damper', 'uneventful', 'despondence', 'bastards', 'brutal', 'scared', 'prickle', 'darker', 'conscons', 'dud']\n"
     ]
    }
   ],
   "source": [
    "# Loading positive and negative words from dictionary\n",
    "positive_word_library = list(set(open('data/dictionary/positive-words.txt', encoding = \"ISO-8859-1\").read().split()))\n",
    "negative_word_library = list(set(open('data/dictionary/negative-words.txt', encoding = \"ISO-8859-1\").read().split()))\n",
    "print(positive_word_library)\n",
    "print(negative_word_library)"
   ]
  },
  {
   "cell_type": "code",
   "execution_count": 13,
   "metadata": {},
   "outputs": [],
   "source": [
    "def emphasize_pos_and_neg_words(text):\n",
    "    t = []\n",
    "    for w in text.split():\n",
    "        if w in positive_word_library:\n",
    "            t.append('<positive> ' + w)\n",
    "        elif w in negative_word_library:\n",
    "            t.append('<negative> ' + w)\n",
    "        else:\n",
    "            t.append(w)\n",
    "    newTweet = \" \".join(t)\n",
    "    return newTweet"
   ]
  },
  {
   "cell_type": "code",
   "execution_count": 14,
   "metadata": {},
   "outputs": [
    {
     "data": {
      "text/plain": [
       "\"i'm really <negative> sad about charlotte though\""
      ]
     },
     "execution_count": 14,
     "metadata": {},
     "output_type": "execute_result"
    }
   ],
   "source": [
    "emphasize_pos_and_neg_words(\" i'm really sad about charlotte though\")"
   ]
  },
  {
   "cell_type": "markdown",
   "metadata": {},
   "source": [
    "<h5>#Clean hashtag</h5>"
   ]
  },
  {
   "cell_type": "code",
   "execution_count": 15,
   "metadata": {},
   "outputs": [],
   "source": [
    "e = Analyzer()"
   ]
  },
  {
   "cell_type": "code",
   "execution_count": 16,
   "metadata": {},
   "outputs": [],
   "source": [
    "def extract_hashtag(text):\n",
    "    hash_list = ([re.sub(r\"(\\W+)$\", \"\", i) for i in text.split() if i.startswith(\"#\")])\n",
    "    return hash_list"
   ]
  },
  {
   "cell_type": "code",
   "execution_count": 17,
   "metadata": {},
   "outputs": [],
   "source": [
    "def split_hashtag_to_words(tag):\n",
    "    word_list = [w for w in e.segment(tag[1:]) if len(w) > 3]\n",
    "    return word_list"
   ]
  },
  {
   "cell_type": "code",
   "execution_count": 18,
   "metadata": {},
   "outputs": [],
   "source": [
    "def clean_hashtag(text):\n",
    "    words = []\n",
    "    tag_list = extract_hashtag(text)\n",
    "    for tag in tag_list:\n",
    "        words += split_hashtag_to_words(tag)\n",
    "    if len(words):\n",
    "        return (\" \".join(words)).strip()\n",
    "    else:\n",
    "        return \"\"\n",
    "    return word_list"
   ]
  },
  {
   "cell_type": "code",
   "execution_count": 20,
   "metadata": {},
   "outputs": [
    {
     "data": {
      "text/plain": [
       "'life completed'"
      ]
     },
     "execution_count": 20,
     "metadata": {},
     "output_type": "execute_result"
    }
   ],
   "source": [
    "clean_hashtag(\"yay ! ! #lifecompleted . tweet / facebook\")"
   ]
  },
  {
   "cell_type": "markdown",
   "metadata": {},
   "source": [
    "<h5># Remove Number</h5>"
   ]
  },
  {
   "cell_type": "code",
   "execution_count": 21,
   "metadata": {},
   "outputs": [],
   "source": [
    "def remove_number(text):\n",
    "    new_tweet = []\n",
    "    for word in text.split():\n",
    "        try:\n",
    "            float(word)\n",
    "            new_tweet.append(\"\")\n",
    "        except:\n",
    "            new_tweet.append(word)\n",
    "    return \" \".join(new_tweet)"
   ]
  },
  {
   "cell_type": "code",
   "execution_count": 22,
   "metadata": {},
   "outputs": [
    {
     "data": {
      "text/plain": [
       "'hello he scored '"
      ]
     },
     "execution_count": 22,
     "metadata": {},
     "output_type": "execute_result"
    }
   ],
   "source": [
    "remove_number(\"hello he scored 993\")"
   ]
  },
  {
   "cell_type": "markdown",
   "metadata": {},
   "source": [
    "<h5># Spelling corretion</h5>"
   ]
  },
  {
   "cell_type": "code",
   "execution_count": 23,
   "metadata": {},
   "outputs": [],
   "source": [
    "dict = {}\n",
    "\n",
    "corpus1 = open('data/dictionary/tweet_typo_corpus.txt', 'rb')\n",
    "for term in corpus1:\n",
    "    term = term.decode('utf8').split()\n",
    "    dict[term[0]] = term[1]\n",
    "\n",
    "corpus2 = open('data/dictionary/text_correction.txt', 'rb')\n",
    "for term in corpus2:\n",
    "    term = term.decode('utf8').split()\n",
    "    dict[term[1]] = term[3]\n",
    "\n",
    "\n",
    "def spelling_correction(text):\n",
    "    text = text.split()\n",
    "    for idx in range(len(text)):\n",
    "        if text[idx] in dict.keys():\n",
    "            text[idx] = dict[text[idx]]\n",
    "    text = ' '.join(text)\n",
    "    return text"
   ]
  },
  {
   "cell_type": "code",
   "execution_count": 27,
   "metadata": {},
   "outputs": [
    {
     "data": {
      "text/plain": [
       "'hey! you are fabulous'"
      ]
     },
     "execution_count": 27,
     "metadata": {},
     "output_type": "execute_result"
    }
   ],
   "source": [
    "spelling_correction(\"hey! you are fab\")"
   ]
  },
  {
   "cell_type": "markdown",
   "metadata": {},
   "source": [
    "<h5># Removing Stopwords</h5>"
   ]
  },
  {
   "cell_type": "code",
   "execution_count": 28,
   "metadata": {},
   "outputs": [],
   "source": [
    "stoplist = stopwords.words('english')\n",
    "\n",
    "def remove_stopwords(text):\n",
    "    tokens = text.split()\n",
    "    for word in tokens:\n",
    "        if word in stoplist:\n",
    "            tokens.remove(word)\n",
    "    return ' '.join(tokens)"
   ]
  },
  {
   "cell_type": "code",
   "execution_count": 29,
   "metadata": {},
   "outputs": [
    {
     "data": {
      "text/plain": [
       "'hey! are fab'"
      ]
     },
     "execution_count": 29,
     "metadata": {},
     "output_type": "execute_result"
    }
   ],
   "source": [
    "remove_stopwords(\"hey! you are fab\")"
   ]
  },
  {
   "cell_type": "markdown",
   "metadata": {},
   "source": [
    "<h5># Lemmatization</h5>"
   ]
  },
  {
   "cell_type": "code",
   "execution_count": 30,
   "metadata": {},
   "outputs": [],
   "source": [
    "lemma = WordNetLemmatizer()\n",
    "def lemmatize_word(w):\n",
    "    try:\n",
    "        x = lemma.lemmatize(w).lower()\n",
    "        return x\n",
    "    except Exception as e:\n",
    "        return w\n",
    "\n",
    "\n",
    "def lemmatize_sentence(text):\n",
    "    x = [lemmatize_word(t) for t in text.split()]\n",
    "    return \" \".join(x)"
   ]
  },
  {
   "cell_type": "code",
   "execution_count": 33,
   "metadata": {},
   "outputs": [
    {
     "data": {
      "text/plain": [
       "\"laurie's gardening design protective decal skin\""
      ]
     },
     "execution_count": 33,
     "metadata": {},
     "output_type": "execute_result"
    }
   ],
   "source": [
    "lemmatize_word(\"laurie's gardening design protective decal skin\")"
   ]
  },
  {
   "cell_type": "markdown",
   "metadata": {},
   "source": [
    "<h5># Stemming</h5>"
   ]
  },
  {
   "cell_type": "code",
   "execution_count": 34,
   "metadata": {},
   "outputs": [],
   "source": [
    "stemmer = PorterStemmer()\n",
    "def stemming_word(w):\n",
    "    return stemmer.stem(w)\n",
    "\n",
    "\n",
    "def stemming_sentence(text):\n",
    "    x = [stemming_word(t) for t in text.split()]\n",
    "    return \" \".join(x)"
   ]
  },
  {
   "cell_type": "code",
   "execution_count": 35,
   "metadata": {},
   "outputs": [
    {
     "data": {
      "text/plain": [
       "\"laurie' garden design protect decal skin\""
      ]
     },
     "execution_count": 35,
     "metadata": {},
     "output_type": "execute_result"
    }
   ],
   "source": [
    "stemming_sentence(\"laurie's gardening design protective decal skin\")"
   ]
  },
  {
   "cell_type": "markdown",
   "metadata": {},
   "source": [
    "<h3>Combining all preprocessing method</h3>"
   ]
  },
  {
   "cell_type": "code",
   "execution_count": 38,
   "metadata": {},
   "outputs": [],
   "source": [
    "def preprocessing_all_method(tweet):\n",
    "    tweet = abbreviation_replacement(tweet)\n",
    "    tweet = emphaszie_punctuation(tweet)\n",
    "    tweet = tweet + ' ' + clean_hashtag(tweet)\n",
    "    tweet = emoji_translation(tweet)\n",
    "    tweet = remove_number(tweet)\n",
    "    tweet = emphasize_pos_and_neg_words(tweet)\n",
    "    tweet = spelling_correction(tweet)\n",
    "    tweet = remove_stopwords(tweet)\n",
    "    tweet = stemming_sentence(tweet)\n",
    "    tweet = lemmatize_sentence(tweet)\n",
    "    return tweet.strip().lower()"
   ]
  },
  {
   "cell_type": "code",
   "execution_count": 39,
   "metadata": {},
   "outputs": [
    {
     "data": {
      "text/plain": [
       "\"laurie' garden design <positive> protect deal skin\""
      ]
     },
     "execution_count": 39,
     "metadata": {},
     "output_type": "execute_result"
    }
   ],
   "source": [
    "preprocessing_all_method(\"laurie's gardening design protective decal skin\")"
   ]
  },
  {
   "cell_type": "code",
   "execution_count": 40,
   "metadata": {},
   "outputs": [],
   "source": [
    "# Paralelize Pandas datafames\n",
    "def parallelize_dataframe(df, func):\n",
    "    df_split = np.array_split(df, num_partitions)\n",
    "    pool = Pool(num_cores)\n",
    "    df = pd.concat(pool.map(func, df_split))\n",
    "    pool.close()\n",
    "    pool.join()\n",
    "    return df\n",
    "\n",
    "def multiply_columns(data):\n",
    "    data['tweet'] = data['tweet'].apply(lambda x: preprocessing_all_method(x))\n",
    "    return data"
   ]
  },
  {
   "cell_type": "code",
   "execution_count": 41,
   "metadata": {},
   "outputs": [
    {
     "name": "stdout",
     "output_type": "stream",
     "text": [
      "Test data preprocessing start!\n"
     ]
    },
    {
     "data": {
      "text/html": [
       "<div>\n",
       "<style scoped>\n",
       "    .dataframe tbody tr th:only-of-type {\n",
       "        vertical-align: middle;\n",
       "    }\n",
       "\n",
       "    .dataframe tbody tr th {\n",
       "        vertical-align: top;\n",
       "    }\n",
       "\n",
       "    .dataframe thead th {\n",
       "        text-align: right;\n",
       "    }\n",
       "</style>\n",
       "<table border=\"1\" class=\"dataframe\">\n",
       "  <thead>\n",
       "    <tr style=\"text-align: right;\">\n",
       "      <th></th>\n",
       "      <th>tweet</th>\n",
       "    </tr>\n",
       "  </thead>\n",
       "  <tbody>\n",
       "    <tr>\n",
       "      <th>0</th>\n",
       "      <td>sea pro sea scooter \\( sport the &lt;positive&gt; po...</td>\n",
       "    </tr>\n",
       "    <tr>\n",
       "      <th>1</th>\n",
       "      <td>&lt;user&gt; shuck &lt;positive&gt; well &lt;positive&gt; work w...</td>\n",
       "    </tr>\n",
       "    <tr>\n",
       "      <th>2</th>\n",
       "      <td>cant stay away &lt;negative&gt; bug that' babi</td>\n",
       "    </tr>\n",
       "    <tr>\n",
       "      <th>3</th>\n",
       "      <td>&lt;user&gt; madam ! &lt;repeat&gt; ! &lt;repeat&gt; ! &lt;repeat&gt; ...</td>\n",
       "    </tr>\n",
       "    <tr>\n",
       "      <th>4</th>\n",
       "      <td>whenev &lt;negative&gt; fall asleep watch televis , ...</td>\n",
       "    </tr>\n",
       "    <tr>\n",
       "      <th>5</th>\n",
       "      <td>&lt;user&gt; need get rip that thing ! &lt;repeat&gt; scar...</td>\n",
       "    </tr>\n",
       "    <tr>\n",
       "      <th>6</th>\n",
       "      <td>whatev \\. &lt;repeat&gt; a &lt;negative&gt; terribl mood \\...</td>\n",
       "    </tr>\n",
       "    <tr>\n",
       "      <th>7</th>\n",
       "      <td>ye ! &lt;repeat&gt; &lt;user&gt; &lt;user&gt; thank jordan , &lt;po...</td>\n",
       "    </tr>\n",
       "    <tr>\n",
       "      <th>8</th>\n",
       "      <td>friend &lt;user&gt; text to check on last night \\. &lt;...</td>\n",
       "    </tr>\n",
       "    <tr>\n",
       "      <th>9</th>\n",
       "      <td>&lt;user&gt; #followback pleas \\. &lt;repeat&gt; will #uni...</td>\n",
       "    </tr>\n",
       "    <tr>\n",
       "      <th>10</th>\n",
       "      <td>watch of y'all &lt;negative&gt; dumb ass get lock to...</td>\n",
       "    </tr>\n",
       "    <tr>\n",
       "      <th>11</th>\n",
       "      <td>obsess #phasel &lt;user&gt; &lt;negative&gt; kill ! &lt;repea...</td>\n",
       "    </tr>\n",
       "    <tr>\n",
       "      <th>12</th>\n",
       "      <td>&lt;user&gt; robert niro not gay \\. &lt;repeat&gt; \\. &lt;rep...</td>\n",
       "    </tr>\n",
       "    <tr>\n",
       "      <th>13</th>\n",
       "      <td>&lt;user&gt; canada to grade \\. &lt;repeat&gt; sinc dont g...</td>\n",
       "    </tr>\n",
       "    <tr>\n",
       "      <th>14</th>\n",
       "      <td>&lt;user&gt; pleas say hi denmark ! &lt;repeat&gt; would &lt;...</td>\n",
       "    </tr>\n",
       "    <tr>\n",
       "      <th>15</th>\n",
       "      <td>final home</td>\n",
       "    </tr>\n",
       "    <tr>\n",
       "      <th>16</th>\n",
       "      <td>3x3 custom pictur frame / poster frame \\. &lt;rep...</td>\n",
       "    </tr>\n",
       "    <tr>\n",
       "      <th>17</th>\n",
       "      <td>/ to new follow \\. &lt;repeat&gt; mention for follow...</td>\n",
       "    </tr>\n",
       "    <tr>\n",
       "      <th>18</th>\n",
       "      <td>&lt;user&gt; ye , look &lt;positive&gt; like &lt;positive&gt; be...</td>\n",
       "    </tr>\n",
       "    <tr>\n",
       "      <th>19</th>\n",
       "      <td>nhl' bettman : suspens &lt;negative&gt; critic ' gam...</td>\n",
       "    </tr>\n",
       "    <tr>\n",
       "      <th>20</th>\n",
       "      <td>&lt;user&gt; way am pro &lt;user&gt; lol is &lt;negative&gt; rub...</td>\n",
       "    </tr>\n",
       "    <tr>\n",
       "      <th>21</th>\n",
       "      <td>barrel pickl \\( \\. &lt;repeat&gt; pound german pickl...</td>\n",
       "    </tr>\n",
       "    <tr>\n",
       "      <th>22</th>\n",
       "      <td>complet whole cup tea today jessica' is first ...</td>\n",
       "    </tr>\n",
       "    <tr>\n",
       "      <th>23</th>\n",
       "      <td>expo precis point whiteboard eras \\( 473kf \\) ...</td>\n",
       "    </tr>\n",
       "    <tr>\n",
       "      <th>24</th>\n",
       "      <td>#yougetmajorpointsif play soccer \\. &lt;repeat&gt; i...</td>\n",
       "    </tr>\n",
       "    <tr>\n",
       "      <th>25</th>\n",
       "      <td>task essenti har leather scribe keeper \\( size...</td>\n",
       "    </tr>\n",
       "    <tr>\n",
       "      <th>26</th>\n",
       "      <td>&lt;user&gt; #needtoreesthisshit #shouldhavereaditwi...</td>\n",
       "    </tr>\n",
       "    <tr>\n",
       "      <th>27</th>\n",
       "      <td>&lt;user&gt; hahahaha , come , ton blanket , cat the...</td>\n",
       "    </tr>\n",
       "    <tr>\n",
       "      <th>28</th>\n",
       "      <td>laurie' garden design &lt;positive&gt; protect deal ...</td>\n",
       "    </tr>\n",
       "    <tr>\n",
       "      <th>29</th>\n",
       "      <td>&lt;user&gt; way is mine ! &lt;repeat&gt; ! &lt;repeat&gt; ! &lt;re...</td>\n",
       "    </tr>\n",
       "    <tr>\n",
       "      <th>...</th>\n",
       "      <td>...</td>\n",
       "    </tr>\n",
       "    <tr>\n",
       "      <th>9970</th>\n",
       "      <td>is &lt;positive&gt; clear these new goth learn danc ...</td>\n",
       "    </tr>\n",
       "    <tr>\n",
       "      <th>9971</th>\n",
       "      <td>is &lt;positive&gt; clear these new goth learn danc ...</td>\n",
       "    </tr>\n",
       "    <tr>\n",
       "      <th>9972</th>\n",
       "      <td>anoth day home &lt;negative&gt; sick , thi over alreadi</td>\n",
       "    </tr>\n",
       "    <tr>\n",
       "      <th>9973</th>\n",
       "      <td>&lt;user&gt; your wee &lt;positive&gt; golden nugget simme...</td>\n",
       "    </tr>\n",
       "    <tr>\n",
       "      <th>9974</th>\n",
       "      <td>&lt;user&gt; disney movi &lt;positive&gt; classic film wil...</td>\n",
       "    </tr>\n",
       "    <tr>\n",
       "      <th>9975</th>\n",
       "      <td>09x30 custom pictur frame / poster frame \\. &lt;r...</td>\n",
       "    </tr>\n",
       "    <tr>\n",
       "      <th>9976</th>\n",
       "      <td>09x30 custom pictur frame / poster frame \\. &lt;r...</td>\n",
       "    </tr>\n",
       "    <tr>\n",
       "      <th>9977</th>\n",
       "      <td>&lt;user&gt; &lt;positive&gt; glad arriv &lt;positive&gt; safe</td>\n",
       "    </tr>\n",
       "    <tr>\n",
       "      <th>9978</th>\n",
       "      <td>gonna care your not go either am go be &lt;positi...</td>\n",
       "    </tr>\n",
       "    <tr>\n",
       "      <th>9979</th>\n",
       "      <td>monk - season four \\( return the scene the &lt;ne...</td>\n",
       "    </tr>\n",
       "    <tr>\n",
       "      <th>9980</th>\n",
       "      <td>want wish &lt;positive&gt; beauti cousin &lt;user&gt; &lt;pos...</td>\n",
       "    </tr>\n",
       "    <tr>\n",
       "      <th>9981</th>\n",
       "      <td>&lt;user&gt; first rule sex , is rule</td>\n",
       "    </tr>\n",
       "    <tr>\n",
       "      <th>9982</th>\n",
       "      <td>stay darla , , &lt;user&gt; know hahaha &lt;user&gt; you r...</td>\n",
       "    </tr>\n",
       "    <tr>\n",
       "      <th>9983</th>\n",
       "      <td>&lt;user&gt; \" &lt;user&gt; &lt;negative&gt; embarrass thing tha...</td>\n",
       "    </tr>\n",
       "    <tr>\n",
       "      <th>9984</th>\n",
       "      <td>&lt;positive&gt; wonder &lt;user&gt; ever #followback \\? &lt;...</td>\n",
       "    </tr>\n",
       "    <tr>\n",
       "      <th>9985</th>\n",
       "      <td>&lt;positive&gt; wonder &lt;user&gt; ever #followback \\? &lt;...</td>\n",
       "    </tr>\n",
       "    <tr>\n",
       "      <th>9986</th>\n",
       "      <td>anaheim duck cake cupcak topper \\( pack qualit...</td>\n",
       "    </tr>\n",
       "    <tr>\n",
       "      <th>9987</th>\n",
       "      <td>shootout &lt;user&gt; go follow guy ! &lt;repeat&gt; x</td>\n",
       "    </tr>\n",
       "    <tr>\n",
       "      <th>9988</th>\n",
       "      <td>&lt;user&gt; \\. &lt;repeat&gt; \\. &lt;repeat&gt; &lt;positive&gt; good...</td>\n",
       "    </tr>\n",
       "    <tr>\n",
       "      <th>9989</th>\n",
       "      <td>youar &lt;positive&gt; welcom \\. &lt;repeat&gt; bruce , te...</td>\n",
       "    </tr>\n",
       "    <tr>\n",
       "      <th>9990</th>\n",
       "      <td>&lt;user&gt; follow back pleas ! &lt;repeat&gt; ! &lt;repeat&gt;</td>\n",
       "    </tr>\n",
       "    <tr>\n",
       "      <th>9991</th>\n",
       "      <td>&lt;user&gt; omg ! &lt;repeat&gt; scream the end ! &lt;repeat...</td>\n",
       "    </tr>\n",
       "    <tr>\n",
       "      <th>9992</th>\n",
       "      <td>aww is disappoint i cant make own usernam pott...</td>\n",
       "    </tr>\n",
       "    <tr>\n",
       "      <th>9993</th>\n",
       "      <td>&lt;user&gt; thankyouu po ! &lt;repeat&gt; \\)</td>\n",
       "    </tr>\n",
       "    <tr>\n",
       "      <th>9994</th>\n",
       "      <td>&lt;user&gt; am &lt;negative&gt; afraid youar come back a ...</td>\n",
       "    </tr>\n",
       "    <tr>\n",
       "      <th>9995</th>\n",
       "      <td>a &lt;positive&gt; nice time / friend lastnit</td>\n",
       "    </tr>\n",
       "    <tr>\n",
       "      <th>9996</th>\n",
       "      <td>&lt;user&gt; it not ! &lt;repeat&gt; pleas stop ! &lt;repeat&gt;</td>\n",
       "    </tr>\n",
       "    <tr>\n",
       "      <th>9997</th>\n",
       "      <td>without daughter \\( two-tim oscar \\( \\) &lt;posit...</td>\n",
       "    </tr>\n",
       "    <tr>\n",
       "      <th>9998</th>\n",
       "      <td>&lt;user&gt; &lt;positive&gt; fun class sweetcheek</td>\n",
       "    </tr>\n",
       "    <tr>\n",
       "      <th>9999</th>\n",
       "      <td>make \\. &lt;repeat&gt; e \\. &lt;repeat&gt; \\. &lt;repeat&gt; l \\...</td>\n",
       "    </tr>\n",
       "  </tbody>\n",
       "</table>\n",
       "<p>10000 rows × 1 columns</p>\n",
       "</div>"
      ],
      "text/plain": [
       "                                                  tweet\n",
       "0     sea pro sea scooter \\( sport the <positive> po...\n",
       "1     <user> shuck <positive> well <positive> work w...\n",
       "2              cant stay away <negative> bug that' babi\n",
       "3     <user> madam ! <repeat> ! <repeat> ! <repeat> ...\n",
       "4     whenev <negative> fall asleep watch televis , ...\n",
       "5     <user> need get rip that thing ! <repeat> scar...\n",
       "6     whatev \\. <repeat> a <negative> terribl mood \\...\n",
       "7     ye ! <repeat> <user> <user> thank jordan , <po...\n",
       "8     friend <user> text to check on last night \\. <...\n",
       "9     <user> #followback pleas \\. <repeat> will #uni...\n",
       "10    watch of y'all <negative> dumb ass get lock to...\n",
       "11    obsess #phasel <user> <negative> kill ! <repea...\n",
       "12    <user> robert niro not gay \\. <repeat> \\. <rep...\n",
       "13    <user> canada to grade \\. <repeat> sinc dont g...\n",
       "14    <user> pleas say hi denmark ! <repeat> would <...\n",
       "15                                           final home\n",
       "16    3x3 custom pictur frame / poster frame \\. <rep...\n",
       "17    / to new follow \\. <repeat> mention for follow...\n",
       "18    <user> ye , look <positive> like <positive> be...\n",
       "19    nhl' bettman : suspens <negative> critic ' gam...\n",
       "20    <user> way am pro <user> lol is <negative> rub...\n",
       "21    barrel pickl \\( \\. <repeat> pound german pickl...\n",
       "22    complet whole cup tea today jessica' is first ...\n",
       "23    expo precis point whiteboard eras \\( 473kf \\) ...\n",
       "24    #yougetmajorpointsif play soccer \\. <repeat> i...\n",
       "25    task essenti har leather scribe keeper \\( size...\n",
       "26    <user> #needtoreesthisshit #shouldhavereaditwi...\n",
       "27    <user> hahahaha , come , ton blanket , cat the...\n",
       "28    laurie' garden design <positive> protect deal ...\n",
       "29    <user> way is mine ! <repeat> ! <repeat> ! <re...\n",
       "...                                                 ...\n",
       "9970  is <positive> clear these new goth learn danc ...\n",
       "9971  is <positive> clear these new goth learn danc ...\n",
       "9972  anoth day home <negative> sick , thi over alreadi\n",
       "9973  <user> your wee <positive> golden nugget simme...\n",
       "9974  <user> disney movi <positive> classic film wil...\n",
       "9975  09x30 custom pictur frame / poster frame \\. <r...\n",
       "9976  09x30 custom pictur frame / poster frame \\. <r...\n",
       "9977       <user> <positive> glad arriv <positive> safe\n",
       "9978  gonna care your not go either am go be <positi...\n",
       "9979  monk - season four \\( return the scene the <ne...\n",
       "9980  want wish <positive> beauti cousin <user> <pos...\n",
       "9981                    <user> first rule sex , is rule\n",
       "9982  stay darla , , <user> know hahaha <user> you r...\n",
       "9983  <user> \" <user> <negative> embarrass thing tha...\n",
       "9984  <positive> wonder <user> ever #followback \\? <...\n",
       "9985  <positive> wonder <user> ever #followback \\? <...\n",
       "9986  anaheim duck cake cupcak topper \\( pack qualit...\n",
       "9987         shootout <user> go follow guy ! <repeat> x\n",
       "9988  <user> \\. <repeat> \\. <repeat> <positive> good...\n",
       "9989  youar <positive> welcom \\. <repeat> bruce , te...\n",
       "9990     <user> follow back pleas ! <repeat> ! <repeat>\n",
       "9991  <user> omg ! <repeat> scream the end ! <repeat...\n",
       "9992  aww is disappoint i cant make own usernam pott...\n",
       "9993                  <user> thankyouu po ! <repeat> \\)\n",
       "9994  <user> am <negative> afraid youar come back a ...\n",
       "9995            a <positive> nice time / friend lastnit\n",
       "9996     <user> it not ! <repeat> pleas stop ! <repeat>\n",
       "9997  without daughter \\( two-tim oscar \\( \\) <posit...\n",
       "9998             <user> <positive> fun class sweetcheek\n",
       "9999  make \\. <repeat> e \\. <repeat> \\. <repeat> l \\...\n",
       "\n",
       "[10000 rows x 1 columns]"
      ]
     },
     "execution_count": 41,
     "metadata": {},
     "output_type": "execute_result"
    }
   ],
   "source": [
    "print(\"Test data preprocessing start!\")\n",
    "X_test = pd.read_pickle(\"data/pickles/test_origin.pkl\")\n",
    "X_test = parallelize_dataframe(X_test, multiply_columns)\n",
    "X_test"
   ]
  },
  {
   "cell_type": "code",
   "execution_count": 42,
   "metadata": {},
   "outputs": [
    {
     "name": "stdout",
     "output_type": "stream",
     "text": [
      "Test data preprocessing finish!\n"
     ]
    }
   ],
   "source": [
    "X_test.to_pickle(\"data/pickles/test_clean.pkl\")\n",
    "print(\"Test data preprocessing finish!\")"
   ]
  },
  {
   "cell_type": "code",
   "execution_count": 44,
   "metadata": {},
   "outputs": [
    {
     "name": "stdout",
     "output_type": "stream",
     "text": [
      "Train data preprocessing start!\n"
     ]
    },
    {
     "data": {
      "text/html": [
       "<div>\n",
       "<style scoped>\n",
       "    .dataframe tbody tr th:only-of-type {\n",
       "        vertical-align: middle;\n",
       "    }\n",
       "\n",
       "    .dataframe tbody tr th {\n",
       "        vertical-align: top;\n",
       "    }\n",
       "\n",
       "    .dataframe thead th {\n",
       "        text-align: right;\n",
       "    }\n",
       "</style>\n",
       "<table border=\"1\" class=\"dataframe\">\n",
       "  <thead>\n",
       "    <tr style=\"text-align: right;\">\n",
       "      <th></th>\n",
       "      <th>tweet</th>\n",
       "    </tr>\n",
       "  </thead>\n",
       "  <tbody>\n",
       "    <tr>\n",
       "      <th>0</th>\n",
       "      <td>&lt;user&gt; dunno justin read mention not \\. &lt;repea...</td>\n",
       "    </tr>\n",
       "    <tr>\n",
       "      <th>1</th>\n",
       "      <td>your logic so &lt;negative&gt; dumb , wonot even cro...</td>\n",
       "    </tr>\n",
       "    <tr>\n",
       "      <th>2</th>\n",
       "      <td>\" &lt;user&gt; put casper a box ! &lt;repeat&gt; \" love ba...</td>\n",
       "    </tr>\n",
       "    <tr>\n",
       "      <th>3</th>\n",
       "      <td>&lt;user&gt; &lt;user&gt; thank sir &gt; &gt; dont trip littl ma...</td>\n",
       "    </tr>\n",
       "    <tr>\n",
       "      <th>4</th>\n",
       "      <td>visit brother tomorrow the bestest birthday gi...</td>\n",
       "    </tr>\n",
       "    <tr>\n",
       "      <th>5</th>\n",
       "      <td>&lt;user&gt; &lt;positive&gt; may ! &lt;repeat&gt; ! &lt;repeat&gt; #l...</td>\n",
       "    </tr>\n",
       "    <tr>\n",
       "      <th>6</th>\n",
       "      <td>&lt;user&gt; #1dnextalbumtitl : feel you / &lt;negative...</td>\n",
       "    </tr>\n",
       "    <tr>\n",
       "      <th>7</th>\n",
       "      <td>work &lt;negative&gt; hard hardli work &lt;user&gt; hardee...</td>\n",
       "    </tr>\n",
       "    <tr>\n",
       "      <th>8</th>\n",
       "      <td>&lt;user&gt; saw \\. &lt;repeat&gt; be repli a bit \\. &lt;repeat&gt;</td>\n",
       "    </tr>\n",
       "    <tr>\n",
       "      <th>9</th>\n",
       "      <td>is i belong</td>\n",
       "    </tr>\n",
       "    <tr>\n",
       "      <th>10</th>\n",
       "      <td>&lt;user&gt; to &lt;positive&gt; cheer #nationals2013 \\? &lt;...</td>\n",
       "    </tr>\n",
       "    <tr>\n",
       "      <th>11</th>\n",
       "      <td>send invit shop on-lin ! &lt;repeat&gt; find everyth...</td>\n",
       "    </tr>\n",
       "    <tr>\n",
       "      <th>12</th>\n",
       "      <td>woke , finna go church</td>\n",
       "    </tr>\n",
       "    <tr>\n",
       "      <th>13</th>\n",
       "      <td>&lt;user&gt; agre ! &lt;repeat&gt; day left though</td>\n",
       "    </tr>\n",
       "    <tr>\n",
       "      <th>14</th>\n",
       "      <td>monet katemelo</td>\n",
       "    </tr>\n",
       "    <tr>\n",
       "      <th>15</th>\n",
       "      <td>&lt;positive&gt; like damn &lt;user&gt; lexi got lot say y...</td>\n",
       "    </tr>\n",
       "    <tr>\n",
       "      <th>16</th>\n",
       "      <td>&lt;positive&gt; grate today a dream fulfil ! &lt;repea...</td>\n",
       "    </tr>\n",
       "    <tr>\n",
       "      <th>17</th>\n",
       "      <td>&lt;user&gt; home affair shall it later</td>\n",
       "    </tr>\n",
       "    <tr>\n",
       "      <th>18</th>\n",
       "      <td>barca to beat real madrid saturday doe</td>\n",
       "    </tr>\n",
       "    <tr>\n",
       "      <th>19</th>\n",
       "      <td>&lt;user&gt; lot part asia \\. &lt;repeat&gt; especi rat li...</td>\n",
       "    </tr>\n",
       "    <tr>\n",
       "      <th>20</th>\n",
       "      <td>&lt;user&gt; &lt;user&gt; wasnot even sleep \\. &lt;repeat&gt; sh...</td>\n",
       "    </tr>\n",
       "    <tr>\n",
       "      <th>21</th>\n",
       "      <td>have world &lt;positive&gt; best dad \\. &lt;repeat&gt; &lt;love&gt;</td>\n",
       "    </tr>\n",
       "    <tr>\n",
       "      <th>22</th>\n",
       "      <td>&lt;user&gt; &lt;user&gt; jaeyay werna meet khatam hi hoja...</td>\n",
       "    </tr>\n",
       "    <tr>\n",
       "      <th>23</th>\n",
       "      <td>&lt;user&gt; one &lt;negative&gt; doubt abil ! &lt;repeat&gt;</td>\n",
       "    </tr>\n",
       "    <tr>\n",
       "      <th>24</th>\n",
       "      <td>&lt;user&gt; check tweet pictur \\. &lt;repeat&gt; wa outfi...</td>\n",
       "    </tr>\n",
       "    <tr>\n",
       "      <th>25</th>\n",
       "      <td>got mid-term i &lt;positive&gt; impress ! &lt;repeat&gt; !...</td>\n",
       "    </tr>\n",
       "    <tr>\n",
       "      <th>26</th>\n",
       "      <td>summer day : \\. &lt;repeat&gt; \\) &lt;positive&gt; work 10...</td>\n",
       "    </tr>\n",
       "    <tr>\n",
       "      <th>27</th>\n",
       "      <td>&lt;user&gt; lot \\. &lt;repeat&gt; \\. &lt;repeat&gt; food your f...</td>\n",
       "    </tr>\n",
       "    <tr>\n",
       "      <th>28</th>\n",
       "      <td>&lt;user&gt; #16millionbritneyfan and tweet million ...</td>\n",
       "    </tr>\n",
       "    <tr>\n",
       "      <th>29</th>\n",
       "      <td>&lt;user&gt; serious though \\. &lt;repeat&gt; \\. &lt;repeat&gt; ...</td>\n",
       "    </tr>\n",
       "    <tr>\n",
       "      <th>...</th>\n",
       "      <td>...</td>\n",
       "    </tr>\n",
       "    <tr>\n",
       "      <th>970</th>\n",
       "      <td>&lt;user&gt; look quot googl</td>\n",
       "    </tr>\n",
       "    <tr>\n",
       "      <th>971</th>\n",
       "      <td>older get , more see power that young woman , ...</td>\n",
       "    </tr>\n",
       "    <tr>\n",
       "      <th>972</th>\n",
       "      <td>the smith at &lt;positive&gt; work \\. &lt;repeat&gt; &lt;nega...</td>\n",
       "    </tr>\n",
       "    <tr>\n",
       "      <th>973</th>\n",
       "      <td>&lt;user&gt; oh &lt;positive&gt; right see :' \\) time it \\...</td>\n",
       "    </tr>\n",
       "    <tr>\n",
       "      <th>974</th>\n",
       "      <td>&lt;user&gt; &lt;user&gt; a boy \\. &lt;repeat&gt; next time come...</td>\n",
       "    </tr>\n",
       "    <tr>\n",
       "      <th>975</th>\n",
       "      <td>shhhshhsshhhshut &lt;negative&gt; fuck</td>\n",
       "    </tr>\n",
       "    <tr>\n",
       "      <th>976</th>\n",
       "      <td>&lt;user&gt; thank the follow guy sound &lt;positive&gt; amaz</td>\n",
       "    </tr>\n",
       "    <tr>\n",
       "      <th>977</th>\n",
       "      <td>my headphon on , am my dream world \\. &lt;repeat&gt;</td>\n",
       "    </tr>\n",
       "    <tr>\n",
       "      <th>978</th>\n",
       "      <td>&lt;user&gt; just make feel &lt;positive&gt; like effort o...</td>\n",
       "    </tr>\n",
       "    <tr>\n",
       "      <th>979</th>\n",
       "      <td>&lt;user&gt; oh cours lot #ourwholeuniversewasinahot...</td>\n",
       "    </tr>\n",
       "    <tr>\n",
       "      <th>980</th>\n",
       "      <td>&lt;user&gt; ctfuu , could said &lt;happy&gt; &amp; tell i sai...</td>\n",
       "    </tr>\n",
       "    <tr>\n",
       "      <th>981</th>\n",
       "      <td>&lt;user&gt; phone never notifi of repli ! &lt;repeat&gt; ...</td>\n",
       "    </tr>\n",
       "    <tr>\n",
       "      <th>982</th>\n",
       "      <td>&lt;user&gt; &lt;user&gt; &lt;user&gt; lantaran si kar eh \\. &lt;re...</td>\n",
       "    </tr>\n",
       "    <tr>\n",
       "      <th>983</th>\n",
       "      <td>&lt;user&gt; &lt;user&gt; total agre viv</td>\n",
       "    </tr>\n",
       "    <tr>\n",
       "      <th>984</th>\n",
       "      <td>&lt;user&gt; yeah &lt;positive&gt; thank \\) night , see th...</td>\n",
       "    </tr>\n",
       "    <tr>\n",
       "      <th>985</th>\n",
       "      <td>&lt;user&gt; youar &lt;positive&gt; love hunger game as i ...</td>\n",
       "    </tr>\n",
       "    <tr>\n",
       "      <th>986</th>\n",
       "      <td>&lt;user&gt; could ask follow \\? &lt;repeat&gt; would &lt;pos...</td>\n",
       "    </tr>\n",
       "    <tr>\n",
       "      <th>987</th>\n",
       "      <td>chill matt brittani stay &lt;positive&gt; strong &lt;love&gt;</td>\n",
       "    </tr>\n",
       "    <tr>\n",
       "      <th>988</th>\n",
       "      <td>either so &lt;positive&gt; cute</td>\n",
       "    </tr>\n",
       "    <tr>\n",
       "      <th>989</th>\n",
       "      <td>&lt;positive&gt; may best haven't seen year come see...</td>\n",
       "    </tr>\n",
       "    <tr>\n",
       "      <th>990</th>\n",
       "      <td>&lt;user&gt; ftsk announc &lt;negative&gt; warp tour \\? &lt;r...</td>\n",
       "    </tr>\n",
       "    <tr>\n",
       "      <th>991</th>\n",
       "      <td>nf brother girlfriend &lt;user&gt; follow back</td>\n",
       "    </tr>\n",
       "    <tr>\n",
       "      <th>992</th>\n",
       "      <td>g'night</td>\n",
       "    </tr>\n",
       "    <tr>\n",
       "      <th>993</th>\n",
       "      <td>&lt;positive&gt; readi start cosmo ! &lt;repeat&gt;</td>\n",
       "    </tr>\n",
       "    <tr>\n",
       "      <th>994</th>\n",
       "      <td>&lt;user&gt; told mum is pug a babi - warm the idea</td>\n",
       "    </tr>\n",
       "    <tr>\n",
       "      <th>995</th>\n",
       "      <td>&lt;user&gt; i havenot spent , still got i plan spen...</td>\n",
       "    </tr>\n",
       "    <tr>\n",
       "      <th>996</th>\n",
       "      <td>actual &lt;positive&gt; like singl , mean #ridingsol...</td>\n",
       "    </tr>\n",
       "    <tr>\n",
       "      <th>997</th>\n",
       "      <td>then , uniqu</td>\n",
       "    </tr>\n",
       "    <tr>\n",
       "      <th>998</th>\n",
       "      <td>are sale $ \\. &lt;repeat&gt; ! &lt;repeat&gt; &lt;positive&gt; a...</td>\n",
       "    </tr>\n",
       "    <tr>\n",
       "      <th>999</th>\n",
       "      <td>day no selfharm</td>\n",
       "    </tr>\n",
       "  </tbody>\n",
       "</table>\n",
       "<p>1000 rows × 1 columns</p>\n",
       "</div>"
      ],
      "text/plain": [
       "                                                 tweet\n",
       "0    <user> dunno justin read mention not \\. <repea...\n",
       "1    your logic so <negative> dumb , wonot even cro...\n",
       "2    \" <user> put casper a box ! <repeat> \" love ba...\n",
       "3    <user> <user> thank sir > > dont trip littl ma...\n",
       "4    visit brother tomorrow the bestest birthday gi...\n",
       "5    <user> <positive> may ! <repeat> ! <repeat> #l...\n",
       "6    <user> #1dnextalbumtitl : feel you / <negative...\n",
       "7    work <negative> hard hardli work <user> hardee...\n",
       "8    <user> saw \\. <repeat> be repli a bit \\. <repeat>\n",
       "9                                          is i belong\n",
       "10   <user> to <positive> cheer #nationals2013 \\? <...\n",
       "11   send invit shop on-lin ! <repeat> find everyth...\n",
       "12                              woke , finna go church\n",
       "13              <user> agre ! <repeat> day left though\n",
       "14                                      monet katemelo\n",
       "15   <positive> like damn <user> lexi got lot say y...\n",
       "16   <positive> grate today a dream fulfil ! <repea...\n",
       "17                   <user> home affair shall it later\n",
       "18              barca to beat real madrid saturday doe\n",
       "19   <user> lot part asia \\. <repeat> especi rat li...\n",
       "20   <user> <user> wasnot even sleep \\. <repeat> sh...\n",
       "21   have world <positive> best dad \\. <repeat> <love>\n",
       "22   <user> <user> jaeyay werna meet khatam hi hoja...\n",
       "23         <user> one <negative> doubt abil ! <repeat>\n",
       "24   <user> check tweet pictur \\. <repeat> wa outfi...\n",
       "25   got mid-term i <positive> impress ! <repeat> !...\n",
       "26   summer day : \\. <repeat> \\) <positive> work 10...\n",
       "27   <user> lot \\. <repeat> \\. <repeat> food your f...\n",
       "28   <user> #16millionbritneyfan and tweet million ...\n",
       "29   <user> serious though \\. <repeat> \\. <repeat> ...\n",
       "..                                                 ...\n",
       "970                             <user> look quot googl\n",
       "971  older get , more see power that young woman , ...\n",
       "972  the smith at <positive> work \\. <repeat> <nega...\n",
       "973  <user> oh <positive> right see :' \\) time it \\...\n",
       "974  <user> <user> a boy \\. <repeat> next time come...\n",
       "975                   shhhshhsshhhshut <negative> fuck\n",
       "976  <user> thank the follow guy sound <positive> amaz\n",
       "977     my headphon on , am my dream world \\. <repeat>\n",
       "978  <user> just make feel <positive> like effort o...\n",
       "979  <user> oh cours lot #ourwholeuniversewasinahot...\n",
       "980  <user> ctfuu , could said <happy> & tell i sai...\n",
       "981  <user> phone never notifi of repli ! <repeat> ...\n",
       "982  <user> <user> <user> lantaran si kar eh \\. <re...\n",
       "983                       <user> <user> total agre viv\n",
       "984  <user> yeah <positive> thank \\) night , see th...\n",
       "985  <user> youar <positive> love hunger game as i ...\n",
       "986  <user> could ask follow \\? <repeat> would <pos...\n",
       "987  chill matt brittani stay <positive> strong <love>\n",
       "988                          either so <positive> cute\n",
       "989  <positive> may best haven't seen year come see...\n",
       "990  <user> ftsk announc <negative> warp tour \\? <r...\n",
       "991           nf brother girlfriend <user> follow back\n",
       "992                                            g'night\n",
       "993            <positive> readi start cosmo ! <repeat>\n",
       "994      <user> told mum is pug a babi - warm the idea\n",
       "995  <user> i havenot spent , still got i plan spen...\n",
       "996  actual <positive> like singl , mean #ridingsol...\n",
       "997                                       then , uniqu\n",
       "998  are sale $ \\. <repeat> ! <repeat> <positive> a...\n",
       "999                                    day no selfharm\n",
       "\n",
       "[1000 rows x 1 columns]"
      ]
     },
     "execution_count": 44,
     "metadata": {},
     "output_type": "execute_result"
    }
   ],
   "source": [
    "print(\"Train data preprocessing start!\")\n",
    "X_train = pd.read_pickle(\"data/pickles/train_origin.pkl\")\n",
    "X_train = parallelize_dataframe(X_train, multiply_columns)\n",
    "X_train"
   ]
  },
  {
   "cell_type": "code",
   "execution_count": null,
   "metadata": {},
   "outputs": [],
   "source": [
    "X_train.to_pickle(\"data/pickles/train_clean.pkl\")\n",
    "print(\"Train data preprocessing finish!\")"
   ]
  }
 ],
 "metadata": {
  "kernelspec": {
   "display_name": "Python 3",
   "language": "python",
   "name": "python3"
  },
  "language_info": {
   "codemirror_mode": {
    "name": "ipython",
    "version": 3
   },
   "file_extension": ".py",
   "mimetype": "text/x-python",
   "name": "python",
   "nbconvert_exporter": "python",
   "pygments_lexer": "ipython3",
   "version": "3.6.5"
  }
 },
 "nbformat": 4,
 "nbformat_minor": 2
}
